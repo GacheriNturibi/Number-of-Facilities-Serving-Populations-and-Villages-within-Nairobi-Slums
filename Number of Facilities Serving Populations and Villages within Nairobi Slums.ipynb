{
 "cells": [
  {
   "cell_type": "markdown",
   "metadata": {},
   "source": [
    "### Analysis of the number of facilities serving populations and villages within slum areas in Nairobi. A Case Study of Kibera, Mathare and Kawangware Slums."
   ]
  },
  {
   "cell_type": "markdown",
   "metadata": {},
   "source": [
    "#### Problem Statement\n",
    "Kenyan Slums are renown for poor and inadequate facilities, high population and congestion issues. Foreign organizations such as the UN-HABITAT and the European Union have all focused on upgrading the facilities to improve people's livelihoods, and to make social amenities and infrastructure more accessible to the people living in slum areas. In Nairobi, there are many slums, all of which are characterized by inadequate facilities and high population. This project aimed to study the state of three slums in Nairobi for the purpose of understanding their state and likely areas than can be improved to make people more comfortable."
   ]
  },
  {
   "attachments": {},
   "cell_type": "markdown",
   "metadata": {},
   "source": [
    "#### Objectives\n",
    "* To identify the most common facilities in each of the Kenyan slums at village level.\n",
    "* To correlate the number of facilities with population within each village.\n",
    "* To visualize the facilities serving populations within the slum areas."
   ]
  },
  {
   "cell_type": "markdown",
   "metadata": {},
   "source": [
    "#### Data\n",
    "The analysis was performed on Kibera, Mathare and Kawangware slums, as their datasets were readily available. The datasets used in this project were downloaded from the UN website linked [here](https://data.unhabitat.org/pages/slum-data-surveys)"
   ]
  },
  {
   "cell_type": "code",
   "execution_count": 3,
   "metadata": {},
   "outputs": [],
   "source": [
    "#Importing libraries\n",
    "import pandas as pd\n",
    "import matplotlib.pyplot as plt\n",
    "import numpy as np"
   ]
  },
  {
   "cell_type": "markdown",
   "metadata": {},
   "source": [
    "**Kibera Slum Settlement**"
   ]
  },
  {
   "cell_type": "code",
   "execution_count": 28,
   "metadata": {},
   "outputs": [],
   "source": [
    "#Loading the first dataset\n",
    "kb_df = pd.read_csv('Kibera.csv')"
   ]
  },
  {
   "cell_type": "code",
   "execution_count": 19,
   "metadata": {
    "scrolled": true
   },
   "outputs": [
    {
     "data": {
      "text/html": [
       "<div>\n",
       "<style scoped>\n",
       "    .dataframe tbody tr th:only-of-type {\n",
       "        vertical-align: middle;\n",
       "    }\n",
       "\n",
       "    .dataframe tbody tr th {\n",
       "        vertical-align: top;\n",
       "    }\n",
       "\n",
       "    .dataframe thead th {\n",
       "        text-align: right;\n",
       "    }\n",
       "</style>\n",
       "<table border=\"1\" class=\"dataframe\">\n",
       "  <thead>\n",
       "    <tr style=\"text-align: right;\">\n",
       "      <th></th>\n",
       "      <th>0</th>\n",
       "      <th>1</th>\n",
       "      <th>2</th>\n",
       "      <th>3</th>\n",
       "      <th>4</th>\n",
       "      <th>5</th>\n",
       "      <th>6</th>\n",
       "      <th>7</th>\n",
       "      <th>8</th>\n",
       "      <th>9</th>\n",
       "    </tr>\n",
       "  </thead>\n",
       "  <tbody>\n",
       "    <tr>\n",
       "      <th>X</th>\n",
       "      <td>36.793</td>\n",
       "      <td>36.7762</td>\n",
       "      <td>36.7967</td>\n",
       "      <td>36.775</td>\n",
       "      <td>36.7743</td>\n",
       "      <td>36.7787</td>\n",
       "      <td>36.7823</td>\n",
       "      <td>36.7916</td>\n",
       "      <td>36.7766</td>\n",
       "      <td>36.776</td>\n",
       "    </tr>\n",
       "    <tr>\n",
       "      <th>Y</th>\n",
       "      <td>-1.31151</td>\n",
       "      <td>-1.30882</td>\n",
       "      <td>-1.31508</td>\n",
       "      <td>-1.31103</td>\n",
       "      <td>-1.31062</td>\n",
       "      <td>-1.31415</td>\n",
       "      <td>-1.31129</td>\n",
       "      <td>-1.31441</td>\n",
       "      <td>-1.31751</td>\n",
       "      <td>-1.31615</td>\n",
       "    </tr>\n",
       "    <tr>\n",
       "      <th>FID</th>\n",
       "      <td>1</td>\n",
       "      <td>2</td>\n",
       "      <td>3</td>\n",
       "      <td>4</td>\n",
       "      <td>5</td>\n",
       "      <td>6</td>\n",
       "      <td>7</td>\n",
       "      <td>8</td>\n",
       "      <td>9</td>\n",
       "      <td>10</td>\n",
       "    </tr>\n",
       "    <tr>\n",
       "      <th>village</th>\n",
       "      <td>Mashimoni</td>\n",
       "      <td>Ayany estate</td>\n",
       "      <td>Laini saba</td>\n",
       "      <td>Kianda</td>\n",
       "      <td>Ayany estate</td>\n",
       "      <td>Olympic estate</td>\n",
       "      <td>Karanja estate</td>\n",
       "      <td>Lindi</td>\n",
       "      <td>Raila</td>\n",
       "      <td>soweto east</td>\n",
       "    </tr>\n",
       "    <tr>\n",
       "      <th>settlement</th>\n",
       "      <td>Kibera</td>\n",
       "      <td>Kibera</td>\n",
       "      <td>Kibera</td>\n",
       "      <td>Kibera</td>\n",
       "      <td>Kibera</td>\n",
       "      <td>Kibera</td>\n",
       "      <td>Kibera</td>\n",
       "      <td>Kibera</td>\n",
       "      <td>Kibera</td>\n",
       "      <td>Kibera</td>\n",
       "    </tr>\n",
       "    <tr>\n",
       "      <th>facility_type</th>\n",
       "      <td>Health facility</td>\n",
       "      <td>Health facility</td>\n",
       "      <td>Health facility</td>\n",
       "      <td>Health facility</td>\n",
       "      <td>Health facility</td>\n",
       "      <td>Health facility</td>\n",
       "      <td>Health facility</td>\n",
       "      <td>Health facility</td>\n",
       "      <td>Health facility</td>\n",
       "      <td>Health facility</td>\n",
       "    </tr>\n",
       "    <tr>\n",
       "      <th>facility_name</th>\n",
       "      <td>Frepals Nursing home</td>\n",
       "      <td>Al khair health centre</td>\n",
       "      <td>AMUA Family health Clinic</td>\n",
       "      <td>Ant-Hill medical clinic</td>\n",
       "      <td>Ayany dental care</td>\n",
       "      <td>Beyond Zero</td>\n",
       "      <td>Beyond zero</td>\n",
       "      <td>Beyond zero</td>\n",
       "      <td>Beyond zero</td>\n",
       "      <td>Beyond zero Dispensary</td>\n",
       "    </tr>\n",
       "    <tr>\n",
       "      <th>managing_organization</th>\n",
       "      <td>NGO</td>\n",
       "      <td>Other Community group</td>\n",
       "      <td>NGO</td>\n",
       "      <td>Individual (eg business owner)</td>\n",
       "      <td>Individual (eg business owner)</td>\n",
       "      <td>County government</td>\n",
       "      <td>National government</td>\n",
       "      <td>Community group</td>\n",
       "      <td>Community group National government</td>\n",
       "      <td>NGO</td>\n",
       "    </tr>\n",
       "    <tr>\n",
       "      <th>donor</th>\n",
       "      <td>None</td>\n",
       "      <td>NaN</td>\n",
       "      <td>NaN</td>\n",
       "      <td>Dr.fred ochenge</td>\n",
       "      <td>Individual</td>\n",
       "      <td>NaN</td>\n",
       "      <td>Margret kenyatta</td>\n",
       "      <td>None</td>\n",
       "      <td>Nys</td>\n",
       "      <td>NaN</td>\n",
       "    </tr>\n",
       "    <tr>\n",
       "      <th>altitude</th>\n",
       "      <td>1705.1</td>\n",
       "      <td>1763</td>\n",
       "      <td>1657.4</td>\n",
       "      <td>1755</td>\n",
       "      <td>1752</td>\n",
       "      <td>1768.4</td>\n",
       "      <td>1740</td>\n",
       "      <td>1741.1</td>\n",
       "      <td>1733.7</td>\n",
       "      <td>1756.5</td>\n",
       "    </tr>\n",
       "  </tbody>\n",
       "</table>\n",
       "</div>"
      ],
      "text/plain": [
       "                                          0                       1  \\\n",
       "X                                    36.793                 36.7762   \n",
       "Y                                  -1.31151                -1.30882   \n",
       "FID                                       1                       2   \n",
       "village                           Mashimoni            Ayany estate   \n",
       "settlement                           Kibera                  Kibera   \n",
       "facility_type               Health facility         Health facility   \n",
       "facility_name          Frepals Nursing home  Al khair health centre   \n",
       "managing_organization                   NGO   Other Community group   \n",
       "donor                                  None                     NaN   \n",
       "altitude                             1705.1                    1763   \n",
       "\n",
       "                                               2  \\\n",
       "X                                        36.7967   \n",
       "Y                                       -1.31508   \n",
       "FID                                            3   \n",
       "village                               Laini saba   \n",
       "settlement                                Kibera   \n",
       "facility_type                    Health facility   \n",
       "facility_name          AMUA Family health Clinic   \n",
       "managing_organization                        NGO   \n",
       "donor                                        NaN   \n",
       "altitude                                  1657.4   \n",
       "\n",
       "                                                    3  \\\n",
       "X                                              36.775   \n",
       "Y                                            -1.31103   \n",
       "FID                                                 4   \n",
       "village                                        Kianda   \n",
       "settlement                                     Kibera   \n",
       "facility_type                         Health facility   \n",
       "facility_name                 Ant-Hill medical clinic   \n",
       "managing_organization  Individual (eg business owner)   \n",
       "donor                                 Dr.fred ochenge   \n",
       "altitude                                         1755   \n",
       "\n",
       "                                                    4                  5  \\\n",
       "X                                             36.7743            36.7787   \n",
       "Y                                            -1.31062           -1.31415   \n",
       "FID                                                 5                  6   \n",
       "village                                  Ayany estate     Olympic estate   \n",
       "settlement                                     Kibera             Kibera   \n",
       "facility_type                         Health facility    Health facility   \n",
       "facility_name                       Ayany dental care        Beyond Zero   \n",
       "managing_organization  Individual (eg business owner)  County government   \n",
       "donor                                      Individual                NaN   \n",
       "altitude                                         1752             1768.4   \n",
       "\n",
       "                                         6                7  \\\n",
       "X                                  36.7823          36.7916   \n",
       "Y                                 -1.31129         -1.31441   \n",
       "FID                                      7                8   \n",
       "village                     Karanja estate            Lindi   \n",
       "settlement                          Kibera           Kibera   \n",
       "facility_type              Health facility  Health facility   \n",
       "facility_name                  Beyond zero      Beyond zero   \n",
       "managing_organization  National government  Community group   \n",
       "donor                     Margret kenyatta             None   \n",
       "altitude                              1740           1741.1   \n",
       "\n",
       "                                                         8  \\\n",
       "X                                                  36.7766   \n",
       "Y                                                 -1.31751   \n",
       "FID                                                      9   \n",
       "village                                              Raila   \n",
       "settlement                                          Kibera   \n",
       "facility_type                              Health facility   \n",
       "facility_name                                  Beyond zero   \n",
       "managing_organization  Community group National government   \n",
       "donor                                                  Nys   \n",
       "altitude                                            1733.7   \n",
       "\n",
       "                                            9  \n",
       "X                                      36.776  \n",
       "Y                                    -1.31615  \n",
       "FID                                        10  \n",
       "village                           soweto east  \n",
       "settlement                             Kibera  \n",
       "facility_type                 Health facility  \n",
       "facility_name          Beyond zero Dispensary  \n",
       "managing_organization                     NGO  \n",
       "donor                                     NaN  \n",
       "altitude                               1756.5  "
      ]
     },
     "execution_count": 19,
     "metadata": {},
     "output_type": "execute_result"
    }
   ],
   "source": [
    "# Exploring the Datset\n",
    "kb_df.head(10).T"
   ]
  },
  {
   "cell_type": "code",
   "execution_count": 22,
   "metadata": {},
   "outputs": [
    {
     "data": {
      "text/html": [
       "<div>\n",
       "<style scoped>\n",
       "    .dataframe tbody tr th:only-of-type {\n",
       "        vertical-align: middle;\n",
       "    }\n",
       "\n",
       "    .dataframe tbody tr th {\n",
       "        vertical-align: top;\n",
       "    }\n",
       "\n",
       "    .dataframe thead th {\n",
       "        text-align: right;\n",
       "    }\n",
       "</style>\n",
       "<table border=\"1\" class=\"dataframe\">\n",
       "  <thead>\n",
       "    <tr style=\"text-align: right;\">\n",
       "      <th></th>\n",
       "      <th>1652</th>\n",
       "      <th>1653</th>\n",
       "      <th>1654</th>\n",
       "      <th>1655</th>\n",
       "      <th>1656</th>\n",
       "      <th>1657</th>\n",
       "      <th>1658</th>\n",
       "      <th>1659</th>\n",
       "      <th>1660</th>\n",
       "      <th>1661</th>\n",
       "    </tr>\n",
       "  </thead>\n",
       "  <tbody>\n",
       "    <tr>\n",
       "      <th>X</th>\n",
       "      <td>36.779</td>\n",
       "      <td>36.779</td>\n",
       "      <td>36.7801</td>\n",
       "      <td>36.78</td>\n",
       "      <td>36.7801</td>\n",
       "      <td>36.7819</td>\n",
       "      <td>36.7952</td>\n",
       "      <td>36.7966</td>\n",
       "      <td>36.796</td>\n",
       "      <td>36.796</td>\n",
       "    </tr>\n",
       "    <tr>\n",
       "      <th>Y</th>\n",
       "      <td>-1.31638</td>\n",
       "      <td>-1.3164</td>\n",
       "      <td>-1.31548</td>\n",
       "      <td>-1.31542</td>\n",
       "      <td>-1.31553</td>\n",
       "      <td>-1.3152</td>\n",
       "      <td>-1.31142</td>\n",
       "      <td>-1.31161</td>\n",
       "      <td>-1.3122</td>\n",
       "      <td>-1.31088</td>\n",
       "    </tr>\n",
       "    <tr>\n",
       "      <th>FID</th>\n",
       "      <td>1653</td>\n",
       "      <td>1654</td>\n",
       "      <td>1655</td>\n",
       "      <td>1656</td>\n",
       "      <td>1657</td>\n",
       "      <td>1658</td>\n",
       "      <td>1659</td>\n",
       "      <td>1660</td>\n",
       "      <td>1661</td>\n",
       "      <td>1662</td>\n",
       "    </tr>\n",
       "    <tr>\n",
       "      <th>village</th>\n",
       "      <td>Gatwekera</td>\n",
       "      <td>Gatwekera</td>\n",
       "      <td>Gatwekera</td>\n",
       "      <td>Gatwekera</td>\n",
       "      <td>Gatwekera</td>\n",
       "      <td>Gatwekera</td>\n",
       "      <td></td>\n",
       "      <td></td>\n",
       "      <td></td>\n",
       "      <td></td>\n",
       "    </tr>\n",
       "    <tr>\n",
       "      <th>settlement</th>\n",
       "      <td>Kibera</td>\n",
       "      <td>Kibera</td>\n",
       "      <td>Kibera</td>\n",
       "      <td>Kibera</td>\n",
       "      <td>Kibera</td>\n",
       "      <td>Kibera</td>\n",
       "      <td></td>\n",
       "      <td></td>\n",
       "      <td></td>\n",
       "      <td></td>\n",
       "    </tr>\n",
       "    <tr>\n",
       "      <th>facility_type</th>\n",
       "      <td>Communal kitchen</td>\n",
       "      <td>Communal sanitation facility (eg toilet)</td>\n",
       "      <td>Communal sanitation facility (eg toilet)</td>\n",
       "      <td>Communal sanitation facility (eg toilet)</td>\n",
       "      <td>Communal sanitation facility (eg toilet)</td>\n",
       "      <td>Communal sanitation facility (eg toilet)</td>\n",
       "      <td></td>\n",
       "      <td></td>\n",
       "      <td></td>\n",
       "      <td></td>\n",
       "    </tr>\n",
       "    <tr>\n",
       "      <th>facility_name</th>\n",
       "      <td>NaN</td>\n",
       "      <td>NaN</td>\n",
       "      <td>NaN</td>\n",
       "      <td>NaN</td>\n",
       "      <td>NaN</td>\n",
       "      <td>NaN</td>\n",
       "      <td>NaN</td>\n",
       "      <td>NaN</td>\n",
       "      <td>NaN</td>\n",
       "      <td>NaN</td>\n",
       "    </tr>\n",
       "    <tr>\n",
       "      <th>managing_organization</th>\n",
       "      <td>Community group</td>\n",
       "      <td>Community group</td>\n",
       "      <td>Individual (eg business owner)</td>\n",
       "      <td>National government</td>\n",
       "      <td>Individual (eg business owner)</td>\n",
       "      <td>Individual (eg business owner)</td>\n",
       "      <td>Missing Values</td>\n",
       "      <td>Missing Values</td>\n",
       "      <td>Missing Values</td>\n",
       "      <td>Missing Values</td>\n",
       "    </tr>\n",
       "    <tr>\n",
       "      <th>donor</th>\n",
       "      <td>NaN</td>\n",
       "      <td>NaN</td>\n",
       "      <td>NaN</td>\n",
       "      <td>Government</td>\n",
       "      <td>NaN</td>\n",
       "      <td>NaN</td>\n",
       "      <td>NaN</td>\n",
       "      <td>NaN</td>\n",
       "      <td>NaN</td>\n",
       "      <td>NaN</td>\n",
       "    </tr>\n",
       "    <tr>\n",
       "      <th>altitude</th>\n",
       "      <td>1719.1</td>\n",
       "      <td>1719.1</td>\n",
       "      <td>1746.4</td>\n",
       "      <td>1746.5</td>\n",
       "      <td>1746.3</td>\n",
       "      <td>1753</td>\n",
       "      <td>0</td>\n",
       "      <td>0</td>\n",
       "      <td>0</td>\n",
       "      <td>0</td>\n",
       "    </tr>\n",
       "  </tbody>\n",
       "</table>\n",
       "</div>"
      ],
      "text/plain": [
       "                                   1652  \\\n",
       "X                                36.779   \n",
       "Y                              -1.31638   \n",
       "FID                                1653   \n",
       "village                       Gatwekera   \n",
       "settlement                       Kibera   \n",
       "facility_type          Communal kitchen   \n",
       "facility_name                       NaN   \n",
       "managing_organization   Community group   \n",
       "donor                               NaN   \n",
       "altitude                         1719.1   \n",
       "\n",
       "                                                           1653  \\\n",
       "X                                                        36.779   \n",
       "Y                                                       -1.3164   \n",
       "FID                                                        1654   \n",
       "village                                               Gatwekera   \n",
       "settlement                                               Kibera   \n",
       "facility_type          Communal sanitation facility (eg toilet)   \n",
       "facility_name                                               NaN   \n",
       "managing_organization                           Community group   \n",
       "donor                                                       NaN   \n",
       "altitude                                                 1719.1   \n",
       "\n",
       "                                                           1654  \\\n",
       "X                                                       36.7801   \n",
       "Y                                                      -1.31548   \n",
       "FID                                                        1655   \n",
       "village                                               Gatwekera   \n",
       "settlement                                               Kibera   \n",
       "facility_type          Communal sanitation facility (eg toilet)   \n",
       "facility_name                                               NaN   \n",
       "managing_organization            Individual (eg business owner)   \n",
       "donor                                                       NaN   \n",
       "altitude                                                 1746.4   \n",
       "\n",
       "                                                           1655  \\\n",
       "X                                                         36.78   \n",
       "Y                                                      -1.31542   \n",
       "FID                                                        1656   \n",
       "village                                               Gatwekera   \n",
       "settlement                                               Kibera   \n",
       "facility_type          Communal sanitation facility (eg toilet)   \n",
       "facility_name                                               NaN   \n",
       "managing_organization                       National government   \n",
       "donor                                                Government   \n",
       "altitude                                                 1746.5   \n",
       "\n",
       "                                                           1656  \\\n",
       "X                                                       36.7801   \n",
       "Y                                                      -1.31553   \n",
       "FID                                                        1657   \n",
       "village                                               Gatwekera   \n",
       "settlement                                               Kibera   \n",
       "facility_type          Communal sanitation facility (eg toilet)   \n",
       "facility_name                                               NaN   \n",
       "managing_organization            Individual (eg business owner)   \n",
       "donor                                                       NaN   \n",
       "altitude                                                 1746.3   \n",
       "\n",
       "                                                           1657  \\\n",
       "X                                                       36.7819   \n",
       "Y                                                       -1.3152   \n",
       "FID                                                        1658   \n",
       "village                                               Gatwekera   \n",
       "settlement                                               Kibera   \n",
       "facility_type          Communal sanitation facility (eg toilet)   \n",
       "facility_name                                               NaN   \n",
       "managing_organization            Individual (eg business owner)   \n",
       "donor                                                       NaN   \n",
       "altitude                                                   1753   \n",
       "\n",
       "                                 1658            1659            1660  \\\n",
       "X                             36.7952         36.7966          36.796   \n",
       "Y                            -1.31142        -1.31161         -1.3122   \n",
       "FID                              1659            1660            1661   \n",
       "village                                                                 \n",
       "settlement                                                              \n",
       "facility_type                                                           \n",
       "facility_name                     NaN             NaN             NaN   \n",
       "managing_organization  Missing Values  Missing Values  Missing Values   \n",
       "donor                             NaN             NaN             NaN   \n",
       "altitude                            0               0               0   \n",
       "\n",
       "                                 1661  \n",
       "X                              36.796  \n",
       "Y                            -1.31088  \n",
       "FID                              1662  \n",
       "village                                \n",
       "settlement                             \n",
       "facility_type                          \n",
       "facility_name                     NaN  \n",
       "managing_organization  Missing Values  \n",
       "donor                             NaN  \n",
       "altitude                            0  "
      ]
     },
     "execution_count": 22,
     "metadata": {},
     "output_type": "execute_result"
    }
   ],
   "source": [
    "kb_df.tail(10).T"
   ]
  },
  {
   "cell_type": "code",
   "execution_count": 31,
   "metadata": {},
   "outputs": [
    {
     "data": {
      "text/plain": [
       "(1658, 10)"
      ]
     },
     "execution_count": 31,
     "metadata": {},
     "output_type": "execute_result"
    }
   ],
   "source": [
    "#Number of records\n",
    "kb_df.shape"
   ]
  },
  {
   "cell_type": "code",
   "execution_count": 8,
   "metadata": {},
   "outputs": [
    {
     "data": {
      "text/plain": [
       "X                        float64\n",
       "Y                        float64\n",
       "FID                        int64\n",
       "village                   object\n",
       "settlement                object\n",
       "facility_type             object\n",
       "facility_name             object\n",
       "managing_organization     object\n",
       "donor                     object\n",
       "altitude                 float64\n",
       "dtype: object"
      ]
     },
     "execution_count": 8,
     "metadata": {},
     "output_type": "execute_result"
    }
   ],
   "source": [
    "#Data types\n",
    "kb_df.dtypes"
   ]
  },
  {
   "cell_type": "code",
   "execution_count": 7,
   "metadata": {},
   "outputs": [
    {
     "data": {
      "text/plain": [
       "str"
      ]
     },
     "execution_count": 7,
     "metadata": {},
     "output_type": "execute_result"
    }
   ],
   "source": [
    "type(kb_df['village'][0])"
   ]
  },
  {
   "cell_type": "code",
   "execution_count": 8,
   "metadata": {},
   "outputs": [
    {
     "data": {
      "text/plain": [
       "str"
      ]
     },
     "execution_count": 8,
     "metadata": {},
     "output_type": "execute_result"
    }
   ],
   "source": [
    "type(kb_df['facility_type'][0])"
   ]
  },
  {
   "cell_type": "code",
   "execution_count": 9,
   "metadata": {},
   "outputs": [
    {
     "name": "stdout",
     "output_type": "stream",
     "text": [
      "<class 'pandas.core.frame.DataFrame'>\n",
      "RangeIndex: 1662 entries, 0 to 1661\n",
      "Data columns (total 10 columns):\n",
      "X                        1662 non-null float64\n",
      "Y                        1662 non-null float64\n",
      "FID                      1662 non-null int64\n",
      "village                  1662 non-null object\n",
      "settlement               1662 non-null object\n",
      "facility_type            1662 non-null object\n",
      "facility_name            1648 non-null object\n",
      "managing_organization    1662 non-null object\n",
      "donor                    1435 non-null object\n",
      "altitude                 1662 non-null float64\n",
      "dtypes: float64(3), int64(1), object(6)\n",
      "memory usage: 129.9+ KB\n"
     ]
    }
   ],
   "source": [
    "# Summary of the dataframe\n",
    "kb_df.info()"
   ]
  },
  {
   "cell_type": "code",
   "execution_count": 10,
   "metadata": {},
   "outputs": [
    {
     "data": {
      "text/plain": [
       "Index(['X', 'Y', 'FID', 'village', 'settlement', 'facility_type',\n",
       "       'facility_name', 'managing_organization', 'donor', 'altitude'],\n",
       "      dtype='object')"
      ]
     },
     "execution_count": 10,
     "metadata": {},
     "output_type": "execute_result"
    }
   ],
   "source": [
    "# To view the columns\n",
    "kb_df.columns"
   ]
  },
  {
   "cell_type": "code",
   "execution_count": 12,
   "metadata": {},
   "outputs": [
    {
     "data": {
      "text/html": [
       "<div>\n",
       "<style scoped>\n",
       "    .dataframe tbody tr th:only-of-type {\n",
       "        vertical-align: middle;\n",
       "    }\n",
       "\n",
       "    .dataframe tbody tr th {\n",
       "        vertical-align: top;\n",
       "    }\n",
       "\n",
       "    .dataframe thead th {\n",
       "        text-align: right;\n",
       "    }\n",
       "</style>\n",
       "<table border=\"1\" class=\"dataframe\">\n",
       "  <thead>\n",
       "    <tr style=\"text-align: right;\">\n",
       "      <th></th>\n",
       "      <th>X</th>\n",
       "      <th>Y</th>\n",
       "      <th>FID</th>\n",
       "      <th>village</th>\n",
       "      <th>settlement</th>\n",
       "      <th>facility_type</th>\n",
       "      <th>facility_name</th>\n",
       "      <th>managing_organization</th>\n",
       "      <th>donor</th>\n",
       "      <th>altitude</th>\n",
       "    </tr>\n",
       "  </thead>\n",
       "  <tbody>\n",
       "    <tr>\n",
       "      <th>0</th>\n",
       "      <td>36.792993</td>\n",
       "      <td>-1.311508</td>\n",
       "      <td>1</td>\n",
       "      <td>Mashimoni</td>\n",
       "      <td>Kibera</td>\n",
       "      <td>Health facility</td>\n",
       "      <td>Frepals Nursing home</td>\n",
       "      <td>NGO</td>\n",
       "      <td>None</td>\n",
       "      <td>1705.1</td>\n",
       "    </tr>\n",
       "    <tr>\n",
       "      <th>1</th>\n",
       "      <td>36.776185</td>\n",
       "      <td>-1.308817</td>\n",
       "      <td>2</td>\n",
       "      <td>Ayany estate</td>\n",
       "      <td>Kibera</td>\n",
       "      <td>Health facility</td>\n",
       "      <td>Al khair health centre</td>\n",
       "      <td>Other Community group</td>\n",
       "      <td></td>\n",
       "      <td>1763.0</td>\n",
       "    </tr>\n",
       "    <tr>\n",
       "      <th>2</th>\n",
       "      <td>36.796693</td>\n",
       "      <td>-1.315077</td>\n",
       "      <td>3</td>\n",
       "      <td>Laini saba</td>\n",
       "      <td>Kibera</td>\n",
       "      <td>Health facility</td>\n",
       "      <td>AMUA Family health Clinic</td>\n",
       "      <td>NGO</td>\n",
       "      <td>NaN</td>\n",
       "      <td>1657.4</td>\n",
       "    </tr>\n",
       "    <tr>\n",
       "      <th>3</th>\n",
       "      <td>36.774983</td>\n",
       "      <td>-1.311030</td>\n",
       "      <td>4</td>\n",
       "      <td>Kianda</td>\n",
       "      <td>Kibera</td>\n",
       "      <td>Health facility</td>\n",
       "      <td>Ant-Hill medical clinic</td>\n",
       "      <td>Individual (eg business owner)</td>\n",
       "      <td>Dr.fred ochenge</td>\n",
       "      <td>1755.0</td>\n",
       "    </tr>\n",
       "  </tbody>\n",
       "</table>\n",
       "</div>"
      ],
      "text/plain": [
       "           X         Y  FID       village settlement    facility_type  \\\n",
       "0  36.792993 -1.311508    1     Mashimoni     Kibera  Health facility   \n",
       "1  36.776185 -1.308817    2  Ayany estate     Kibera  Health facility   \n",
       "2  36.796693 -1.315077    3    Laini saba     Kibera  Health facility   \n",
       "3  36.774983 -1.311030    4        Kianda     Kibera  Health facility   \n",
       "\n",
       "               facility_name           managing_organization            donor  \\\n",
       "0       Frepals Nursing home                             NGO             None   \n",
       "1     Al khair health centre           Other Community group                    \n",
       "2  AMUA Family health Clinic                             NGO              NaN   \n",
       "3    Ant-Hill medical clinic  Individual (eg business owner)  Dr.fred ochenge   \n",
       "\n",
       "   altitude  \n",
       "0    1705.1  \n",
       "1    1763.0  \n",
       "2    1657.4  \n",
       "3    1755.0  "
      ]
     },
     "execution_count": 12,
     "metadata": {},
     "output_type": "execute_result"
    }
   ],
   "source": [
    "#First four rows\n",
    "kb_df.iloc[0:4]"
   ]
  },
  {
   "cell_type": "markdown",
   "metadata": {},
   "source": [
    "**Exploring and visualizing the data for Kibera settlement**"
   ]
  },
  {
   "cell_type": "code",
   "execution_count": 11,
   "metadata": {
    "scrolled": true
   },
   "outputs": [
    {
     "data": {
      "text/plain": [
       "Water point                                                 453\n",
       "Communal sanitation facility (eg toilet)                    310\n",
       "Religious facility                                          192\n",
       "Education Facility                                          163\n",
       "Hand washing facility                                        81\n",
       "Waste collection bin / open dumping area                     72\n",
       "Flood light                                                  62\n",
       "Health facility                                              49\n",
       "Juakali/ artisan shade / garage                              48\n",
       "Social hall / community centre / resource centre             46\n",
       "Pharmacy / chemist                                           46\n",
       "Public space                                                 33\n",
       "Transport stops (matatus/ boda-boda) - formal & informal     33\n",
       "Local organization/ NGO office                               23\n",
       "Other                                                        21\n",
       "Local administrative office                                  10\n",
       "Market                                                        7\n",
       "Police station                                                6\n",
       "                                                              4\n",
       "Communal kitchen                                              3\n",
       "Name: facility_type, dtype: int64"
      ]
     },
     "execution_count": 11,
     "metadata": {},
     "output_type": "execute_result"
    }
   ],
   "source": [
    "# Counting the different facilities\n",
    "kb_df['facility_type'].value_counts()"
   ]
  },
  {
   "cell_type": "code",
   "execution_count": 12,
   "metadata": {
    "scrolled": true
   },
   "outputs": [
    {
     "data": {
      "image/png": "[encoded data removed]",
      "text/plain": [
       "<Figure size 2880x576 with 1 Axes>"
      ]
     },
     "metadata": {
      "needs_background": "light"
     },
     "output_type": "display_data"
    }
   ],
   "source": [
    "# Plotting the top facilities in Kibera Slum\n",
    "topFac = kb_df['facility_type'].value_counts().plot(kind = 'bar', figsize=(40,8))"
   ]
  },
  {
   "cell_type": "code",
   "execution_count": 15,
   "metadata": {},
   "outputs": [
    {
     "data": {
      "text/plain": [
       "<matplotlib.axes._subplots.AxesSubplot at 0x1ecad07f550>"
      ]
     },
     "execution_count": 15,
     "metadata": {},
     "output_type": "execute_result"
    },
    {
     "data": {
      "image/png": "[encoded data removed]",
      "text/plain": [
       "<Figure size 432x288 with 1 Axes>"
      ]
     },
     "metadata": {
      "needs_background": "light"
     },
     "output_type": "display_data"
    }
   ],
   "source": [
    "#Plot the first 5 facilities\n",
    "top5 = kb_df['facility_type'].value_counts()\n",
    "top5.sort_values(ascending=False)\n",
    "top5 = top5[:5]\n",
    "top5.plot(kind = \"bar\")"
   ]
  },
  {
   "cell_type": "markdown",
   "metadata": {},
   "source": [
    "From the bar graph above, it is evident that in Kibera, water points, sanitation facilities and religious facilities are the most common. It is important to note that there are more religious than education facilities in the slum. No health facilities in the top five facilities. Interested groups should consider establishing more education, and health facilities in the slum."
   ]
  },
  {
   "cell_type": "code",
   "execution_count": 23,
   "metadata": {},
   "outputs": [
    {
     "data": {
      "text/plain": [
       "Individual (eg business owner)                              716\n",
       "Missing Values                                              329\n",
       "Community group                                             272\n",
       "No one                                                       89\n",
       "NGO                                                          89\n",
       "County government                                            56\n",
       "National government                                          38\n",
       "Other                                                        32\n",
       "Individual (eg business owner) Community group               10\n",
       "Private company                                               3\n",
       "Other Community group                                         2\n",
       "Individual (eg business owner) Other                          2\n",
       "Community group Other                                         2\n",
       "NGO Community group                                           2\n",
       "Individual (eg business owner) County government              2\n",
       "NGO Individual (eg business owner)                            2\n",
       "UN Agency NGO                                                 2\n",
       "Community group National government                           2\n",
       "Other No one                                                  1\n",
       "Other NGO                                                     1\n",
       "Community group NGO                                           1\n",
       "Individual (eg business owner) Community group NGO            1\n",
       "No one Community group County government                      1\n",
       "Facility_Management                                           1\n",
       "NGO Other Individual (eg business owner) Community group      1\n",
       "Individual (eg business owner) Other No one                   1\n",
       "Individual (eg business owner) NGO                            1\n",
       "NGO County government                                         1\n",
       "Community group Individual (eg business owner)                1\n",
       "NGO Other                                                     1\n",
       "Name: managing_organization, dtype: int64"
      ]
     },
     "execution_count": 23,
     "metadata": {},
     "output_type": "execute_result"
    }
   ],
   "source": [
    "# Checking who manages these facilites in Kibera\n",
    "kb_df['managing_organization'].value_counts()"
   ]
  },
  {
   "cell_type": "code",
   "execution_count": 25,
   "metadata": {},
   "outputs": [
    {
     "data": {
      "text/plain": [
       "<matplotlib.axes._subplots.AxesSubplot at 0x1ecad1485f8>"
      ]
     },
     "execution_count": 25,
     "metadata": {},
     "output_type": "execute_result"
    },
    {
     "data": {
      "image/png": "[encoded data removed]",
      "text/plain": [
       "<Figure size 432x288 with 1 Axes>"
      ]
     },
     "metadata": {
      "needs_background": "light"
     },
     "output_type": "display_data"
    }
   ],
   "source": [
    "#Plotting the first 8 managing organizations\n",
    "top8 = kb_df['managing_organization'].value_counts()\n",
    "top8.sort_values(ascending=False)\n",
    "top8 = top8[:8]\n",
    "top8.plot(kind = \"bar\")"
   ]
  },
  {
   "cell_type": "markdown",
   "metadata": {},
   "source": [
    "From the bar graph above, we can see that individuals are the most common managing organizations in Kibera. It is also important to note that there is a lot of mission data values, labelled \"missing values\". NGOs manage more facilities than the county and national government.(This conclusion could be erroneous due to the huge chunk of missing information)"
   ]
  },
  {
   "cell_type": "code",
   "execution_count": 41,
   "metadata": {},
   "outputs": [
    {
     "data": {
      "text/plain": [
       "array(['Mashimoni', 'Ayany estate', 'Laini saba', ..., 'Gatwekera',\n",
       "       'Gatwekera', 'Gatwekera'], dtype=object)"
      ]
     },
     "execution_count": 41,
     "metadata": {},
     "output_type": "execute_result"
    }
   ],
   "source": [
    "#Extract the village and facility type columns from the Kibera dataset. Node_df variable to be used later.\n",
    "node_df = kb_df[['village', 'facility_type']]\n",
    "n_df = kb_df['village']\n",
    "\n",
    "##preprocess village column so that null values are all dropped.\n",
    "v=(n_df.dropna()).values\n",
    "v"
   ]
  },
  {
   "cell_type": "code",
   "execution_count": 42,
   "metadata": {},
   "outputs": [
    {
     "data": {
      "text/plain": [
       "[' ',\n",
       " 'Ayany estate',\n",
       " 'D.C village',\n",
       " 'Gatwekera',\n",
       " 'Kambi muru',\n",
       " 'Karanja estate',\n",
       " 'Kianda',\n",
       " 'Kisumu ndogo',\n",
       " 'Laini saba',\n",
       " 'Lindi',\n",
       " 'Makina',\n",
       " 'Makongeni',\n",
       " 'Mashimoni',\n",
       " 'Olympic estate',\n",
       " 'Raila',\n",
       " 'Silanga',\n",
       " 'Toi Market',\n",
       " 'hawkers market',\n",
       " 'soweto east',\n",
       " 'soweto west']"
      ]
     },
     "execution_count": 42,
     "metadata": {},
     "output_type": "execute_result"
    }
   ],
   "source": [
    "##create a list of unique village values without repetition and convert numpy array back to list\n",
    "##this list will be used to check on each row while looping\n",
    "village_id= (np.unique(v)).tolist()\n",
    "village_id"
   ]
  },
  {
   "cell_type": "code",
   "execution_count": 43,
   "metadata": {},
   "outputs": [
    {
     "name": "stdout",
     "output_type": "stream",
     "text": [
      "           village  Water point  Communal sanitation facility (eg toilet)  \\\n",
      "0                             1                                         0   \n",
      "1     Ayany estate            7                                         1   \n",
      "2      D.C village           14                                        13   \n",
      "3        Gatwekera           80                                        86   \n",
      "4       Kambi muru           23                                        23   \n",
      "5   Karanja estate           11                                         2   \n",
      "6           Kianda           24                                        17   \n",
      "7     Kisumu ndogo           33                                        24   \n",
      "8       Laini saba           57                                        37   \n",
      "9            Lindi           60                                        23   \n",
      "10          Makina            7                                         0   \n",
      "11       Makongeni           13                                        19   \n",
      "12       Mashimoni           10                                         5   \n",
      "13  Olympic estate            7                                         2   \n",
      "14           Raila            4                                         4   \n",
      "15         Silanga           40                                        21   \n",
      "16      Toi Market            6                                         6   \n",
      "17  hawkers market            0                                         0   \n",
      "18     soweto east           42                                        15   \n",
      "19     soweto west           14                                        12   \n",
      "\n",
      "    Religious facility  Education Facility  Hand washing facility  \n",
      "0                    0                   0                      0  \n",
      "1                    4                   5                      4  \n",
      "2                    3                   0                      4  \n",
      "3                   21                  16                     13  \n",
      "4                    6                   4                      8  \n",
      "5                    4                  13                      4  \n",
      "6                   21                  20                      2  \n",
      "7                    5                   7                      4  \n",
      "8                   21                   8                      6  \n",
      "9                   28                  17                      9  \n",
      "10                   3                   2                      9  \n",
      "11                   5                   0                      0  \n",
      "12                   7                  10                      2  \n",
      "13                  13                  26                      1  \n",
      "14                   3                   6                      0  \n",
      "15                  26                  16                      3  \n",
      "16                   4                   4                      7  \n",
      "17                   0                   0                      0  \n",
      "18                   5                   2                      4  \n",
      "19                  13                   7                      1  \n"
     ]
    }
   ],
   "source": [
    "##create empty dictionary to store required data values after looping operation\n",
    "results = {\"village\":[],\"Water point\":[],\"Communal sanitation facility (eg toilet)\":[], \"Religious facility\":[],\"Education Facility\":[],\"Hand washing facility\":[]}\n",
    "\n",
    "\n",
    "village_indexed=node_df.set_index(\"village\")\n",
    "\n",
    "for i in village_id:\n",
    "    wp=0\n",
    "    cs=0\n",
    "    rf=0\n",
    "    ef=0\n",
    "    hw=0\n",
    "    for village,facility in village_indexed.iterrows():\n",
    "        if village==i:\n",
    "            if facility.values==\"Water point\":\n",
    "                wp+=1\n",
    "            if facility.values==\"Communal sanitation facility (eg toilet)\":\n",
    "                cs+=1\n",
    "            if facility.values==\"Religious facility\":\n",
    "                rf+=1\n",
    "            if facility.values==\"Education Facility\":\n",
    "                ef+=1\n",
    "            if facility.values==\"Hand washing facility\":\n",
    "                hw+=1    \n",
    "    results[\"village\"].append(i)\n",
    "    results[\"Water point\"].append(wp)\n",
    "    results[\"Communal sanitation facility (eg toilet)\"].append(cs)\n",
    "    results[\"Religious facility\"].append(rf)\n",
    "    results[\"Education Facility\"].append(ef)\n",
    "    results[\"Hand washing facility\"].append(hw)\n",
    "\n",
    "vge_facility_count = pd.DataFrame.from_dict(results)\n",
    "print(vge_facility_count)\n",
    "#vge_facility_count.to_csv(\"C:/Users/Lenovo X1/Desktop/vge3.csv\")"
   ]
  },
  {
   "cell_type": "code",
   "execution_count": 44,
   "metadata": {},
   "outputs": [],
   "source": [
    "# Drop the villages that had no entries\n",
    "village_facility=vge_facility_count.drop([0, 17]) "
   ]
  },
  {
   "cell_type": "code",
   "execution_count": 28,
   "metadata": {},
   "outputs": [
    {
     "data": {
      "text/html": [
       "<div>\n",
       "<style scoped>\n",
       "    .dataframe tbody tr th:only-of-type {\n",
       "        vertical-align: middle;\n",
       "    }\n",
       "\n",
       "    .dataframe tbody tr th {\n",
       "        vertical-align: top;\n",
       "    }\n",
       "\n",
       "    .dataframe thead th {\n",
       "        text-align: right;\n",
       "    }\n",
       "</style>\n",
       "<table border=\"1\" class=\"dataframe\">\n",
       "  <thead>\n",
       "    <tr style=\"text-align: right;\">\n",
       "      <th></th>\n",
       "      <th>village</th>\n",
       "      <th>Water point</th>\n",
       "      <th>Communal sanitation facility (eg toilet)</th>\n",
       "      <th>Religious facility</th>\n",
       "      <th>Education Facility</th>\n",
       "      <th>Hand washing facility</th>\n",
       "    </tr>\n",
       "  </thead>\n",
       "  <tbody>\n",
       "    <tr>\n",
       "      <th>1</th>\n",
       "      <td>Ayany estate</td>\n",
       "      <td>7</td>\n",
       "      <td>1</td>\n",
       "      <td>4</td>\n",
       "      <td>5</td>\n",
       "      <td>4</td>\n",
       "    </tr>\n",
       "    <tr>\n",
       "      <th>2</th>\n",
       "      <td>D.C village</td>\n",
       "      <td>14</td>\n",
       "      <td>13</td>\n",
       "      <td>3</td>\n",
       "      <td>0</td>\n",
       "      <td>4</td>\n",
       "    </tr>\n",
       "    <tr>\n",
       "      <th>3</th>\n",
       "      <td>Gatwekera</td>\n",
       "      <td>80</td>\n",
       "      <td>86</td>\n",
       "      <td>21</td>\n",
       "      <td>16</td>\n",
       "      <td>13</td>\n",
       "    </tr>\n",
       "    <tr>\n",
       "      <th>4</th>\n",
       "      <td>Kambi muru</td>\n",
       "      <td>23</td>\n",
       "      <td>23</td>\n",
       "      <td>6</td>\n",
       "      <td>4</td>\n",
       "      <td>8</td>\n",
       "    </tr>\n",
       "    <tr>\n",
       "      <th>5</th>\n",
       "      <td>Karanja estate</td>\n",
       "      <td>11</td>\n",
       "      <td>2</td>\n",
       "      <td>4</td>\n",
       "      <td>13</td>\n",
       "      <td>4</td>\n",
       "    </tr>\n",
       "    <tr>\n",
       "      <th>6</th>\n",
       "      <td>Kianda</td>\n",
       "      <td>24</td>\n",
       "      <td>17</td>\n",
       "      <td>21</td>\n",
       "      <td>20</td>\n",
       "      <td>2</td>\n",
       "    </tr>\n",
       "    <tr>\n",
       "      <th>7</th>\n",
       "      <td>Kisumu ndogo</td>\n",
       "      <td>33</td>\n",
       "      <td>24</td>\n",
       "      <td>5</td>\n",
       "      <td>7</td>\n",
       "      <td>4</td>\n",
       "    </tr>\n",
       "    <tr>\n",
       "      <th>8</th>\n",
       "      <td>Laini saba</td>\n",
       "      <td>57</td>\n",
       "      <td>37</td>\n",
       "      <td>21</td>\n",
       "      <td>8</td>\n",
       "      <td>6</td>\n",
       "    </tr>\n",
       "    <tr>\n",
       "      <th>9</th>\n",
       "      <td>Lindi</td>\n",
       "      <td>60</td>\n",
       "      <td>23</td>\n",
       "      <td>28</td>\n",
       "      <td>17</td>\n",
       "      <td>9</td>\n",
       "    </tr>\n",
       "    <tr>\n",
       "      <th>10</th>\n",
       "      <td>Makina</td>\n",
       "      <td>7</td>\n",
       "      <td>0</td>\n",
       "      <td>3</td>\n",
       "      <td>2</td>\n",
       "      <td>9</td>\n",
       "    </tr>\n",
       "    <tr>\n",
       "      <th>11</th>\n",
       "      <td>Makongeni</td>\n",
       "      <td>13</td>\n",
       "      <td>19</td>\n",
       "      <td>5</td>\n",
       "      <td>0</td>\n",
       "      <td>0</td>\n",
       "    </tr>\n",
       "    <tr>\n",
       "      <th>12</th>\n",
       "      <td>Mashimoni</td>\n",
       "      <td>10</td>\n",
       "      <td>5</td>\n",
       "      <td>7</td>\n",
       "      <td>10</td>\n",
       "      <td>2</td>\n",
       "    </tr>\n",
       "    <tr>\n",
       "      <th>13</th>\n",
       "      <td>Olympic estate</td>\n",
       "      <td>7</td>\n",
       "      <td>2</td>\n",
       "      <td>13</td>\n",
       "      <td>26</td>\n",
       "      <td>1</td>\n",
       "    </tr>\n",
       "    <tr>\n",
       "      <th>14</th>\n",
       "      <td>Raila</td>\n",
       "      <td>4</td>\n",
       "      <td>4</td>\n",
       "      <td>3</td>\n",
       "      <td>6</td>\n",
       "      <td>0</td>\n",
       "    </tr>\n",
       "    <tr>\n",
       "      <th>15</th>\n",
       "      <td>Silanga</td>\n",
       "      <td>40</td>\n",
       "      <td>21</td>\n",
       "      <td>26</td>\n",
       "      <td>16</td>\n",
       "      <td>3</td>\n",
       "    </tr>\n",
       "    <tr>\n",
       "      <th>16</th>\n",
       "      <td>Toi Market</td>\n",
       "      <td>6</td>\n",
       "      <td>6</td>\n",
       "      <td>4</td>\n",
       "      <td>4</td>\n",
       "      <td>7</td>\n",
       "    </tr>\n",
       "    <tr>\n",
       "      <th>18</th>\n",
       "      <td>soweto east</td>\n",
       "      <td>42</td>\n",
       "      <td>15</td>\n",
       "      <td>5</td>\n",
       "      <td>2</td>\n",
       "      <td>4</td>\n",
       "    </tr>\n",
       "    <tr>\n",
       "      <th>19</th>\n",
       "      <td>soweto west</td>\n",
       "      <td>14</td>\n",
       "      <td>12</td>\n",
       "      <td>13</td>\n",
       "      <td>7</td>\n",
       "      <td>1</td>\n",
       "    </tr>\n",
       "  </tbody>\n",
       "</table>\n",
       "</div>"
      ],
      "text/plain": [
       "           village  Water point  Communal sanitation facility (eg toilet)  \\\n",
       "1     Ayany estate            7                                         1   \n",
       "2      D.C village           14                                        13   \n",
       "3        Gatwekera           80                                        86   \n",
       "4       Kambi muru           23                                        23   \n",
       "5   Karanja estate           11                                         2   \n",
       "6           Kianda           24                                        17   \n",
       "7     Kisumu ndogo           33                                        24   \n",
       "8       Laini saba           57                                        37   \n",
       "9            Lindi           60                                        23   \n",
       "10          Makina            7                                         0   \n",
       "11       Makongeni           13                                        19   \n",
       "12       Mashimoni           10                                         5   \n",
       "13  Olympic estate            7                                         2   \n",
       "14           Raila            4                                         4   \n",
       "15         Silanga           40                                        21   \n",
       "16      Toi Market            6                                         6   \n",
       "18     soweto east           42                                        15   \n",
       "19     soweto west           14                                        12   \n",
       "\n",
       "    Religious facility  Education Facility  Hand washing facility  \n",
       "1                    4                   5                      4  \n",
       "2                    3                   0                      4  \n",
       "3                   21                  16                     13  \n",
       "4                    6                   4                      8  \n",
       "5                    4                  13                      4  \n",
       "6                   21                  20                      2  \n",
       "7                    5                   7                      4  \n",
       "8                   21                   8                      6  \n",
       "9                   28                  17                      9  \n",
       "10                   3                   2                      9  \n",
       "11                   5                   0                      0  \n",
       "12                   7                  10                      2  \n",
       "13                  13                  26                      1  \n",
       "14                   3                   6                      0  \n",
       "15                  26                  16                      3  \n",
       "16                   4                   4                      7  \n",
       "18                   5                   2                      4  \n",
       "19                  13                   7                      1  "
      ]
     },
     "execution_count": 28,
     "metadata": {},
     "output_type": "execute_result"
    }
   ],
   "source": [
    "village_facility"
   ]
  },
  {
   "cell_type": "code",
   "execution_count": 45,
   "metadata": {},
   "outputs": [
    {
     "data": {
      "text/plain": [
       "<matplotlib.axes._subplots.AxesSubplot at 0x1ecad5181d0>"
      ]
     },
     "execution_count": 45,
     "metadata": {},
     "output_type": "execute_result"
    },
    {
     "data": {
      "image/png": "[encoded data removed]",
      "text/plain": [
       "<Figure size 1296x360 with 1 Axes>"
      ]
     },
     "metadata": {
      "needs_background": "light"
     },
     "output_type": "display_data"
    }
   ],
   "source": [
    "#Plotting the facilities in each village\n",
    "village_facility.plot(x='village',kind='bar',stacked=False, figsize=(18,5), title='Number of Facilities per village', grid=True)"
   ]
  },
  {
   "cell_type": "markdown",
   "metadata": {},
   "source": [
    "From the bar graph above, we can see that Gatwekera, Lindi and Laini Saba have the highest number of facilities. Water points and sanitation facilities are the most common types of facilities. From the graph we can also see that most villages have more religious facilities than education facilities, with the exception of Ayany, Karanja, Kisumu Ndogo, Mashimoni and Olympic Estate."
   ]
  },
  {
   "cell_type": "code",
   "execution_count": 35,
   "metadata": {},
   "outputs": [],
   "source": [
    "#Loading the population dataset\n",
    "kb2_df = pd.read_csv('Kibera_Population.csv')"
   ]
  },
  {
   "cell_type": "code",
   "execution_count": 46,
   "metadata": {},
   "outputs": [
    {
     "data": {
      "text/plain": [
       "<matplotlib.axes._subplots.AxesSubplot at 0x1ecad86fbe0>"
      ]
     },
     "execution_count": 46,
     "metadata": {},
     "output_type": "execute_result"
    },
    {
     "data": {
      "image/png": "[encoded data removed]",
      "text/plain": [
       "<Figure size 1440x504 with 2 Axes>"
      ]
     },
     "metadata": {
      "needs_background": "light"
     },
     "output_type": "display_data"
    }
   ],
   "source": [
    "#A graph to visualize the population vs. facilities\n",
    "village_facility.plot(x='village',kind='bar',stacked=False, figsize=(20,7), title='Number of Facilities Serving Village Population', grid=True)\n",
    "kb2_df['SUM'].plot(secondary_y=True)"
   ]
  },
  {
   "cell_type": "markdown",
   "metadata": {},
   "source": [
    "Laini Saba, Lindi, Karanja Estate and Mashimoni have the highest population. From the graph above, some villages within Kibera have burdened facilities. This is reflected by few facilities with high population. Karanja Estate, Laini Saba, Makina, Makongeni and Mashimoni have few facilities, in relation to the population. There is a need to establish more facilities within these villages.Villages such as Kianda, and Soweto East have relatively more facilities in relation to population, hence people would probably be advised to move into them."
   ]
  },
  {
   "cell_type": "markdown",
   "metadata": {},
   "source": [
    "**Kawangware Slum Settlement**"
   ]
  },
  {
   "cell_type": "code",
   "execution_count": 60,
   "metadata": {},
   "outputs": [],
   "source": [
    "#Loading the Kawangware Dataset\n",
    "kwng_df = pd.read_csv('Kawangware.csv')"
   ]
  },
  {
   "cell_type": "code",
   "execution_count": 61,
   "metadata": {},
   "outputs": [
    {
     "data": {
      "text/html": [
       "<div>\n",
       "<style scoped>\n",
       "    .dataframe tbody tr th:only-of-type {\n",
       "        vertical-align: middle;\n",
       "    }\n",
       "\n",
       "    .dataframe tbody tr th {\n",
       "        vertical-align: top;\n",
       "    }\n",
       "\n",
       "    .dataframe thead th {\n",
       "        text-align: right;\n",
       "    }\n",
       "</style>\n",
       "<table border=\"1\" class=\"dataframe\">\n",
       "  <thead>\n",
       "    <tr style=\"text-align: right;\">\n",
       "      <th></th>\n",
       "      <th>X</th>\n",
       "      <th>Y</th>\n",
       "      <th>FID</th>\n",
       "      <th>Settlement</th>\n",
       "      <th>Village</th>\n",
       "      <th>FacilityTy</th>\n",
       "      <th>ManagingOr</th>\n",
       "      <th>Donor</th>\n",
       "      <th>Altitude</th>\n",
       "    </tr>\n",
       "  </thead>\n",
       "  <tbody>\n",
       "    <tr>\n",
       "      <th>0</th>\n",
       "      <td>36.750830</td>\n",
       "      <td>-1.277331</td>\n",
       "      <td>1</td>\n",
       "      <td>Kawangware</td>\n",
       "      <td>Gatina</td>\n",
       "      <td>Religious facility</td>\n",
       "      <td>Missing values</td>\n",
       "      <td></td>\n",
       "      <td>1794.0</td>\n",
       "    </tr>\n",
       "    <tr>\n",
       "      <th>1</th>\n",
       "      <td>36.750750</td>\n",
       "      <td>-1.277200</td>\n",
       "      <td>2</td>\n",
       "      <td>Kawangware</td>\n",
       "      <td>Gatina</td>\n",
       "      <td>Juakali/ artisan shade / garage</td>\n",
       "      <td>Missing values</td>\n",
       "      <td></td>\n",
       "      <td>1790.0</td>\n",
       "    </tr>\n",
       "    <tr>\n",
       "      <th>2</th>\n",
       "      <td>36.750775</td>\n",
       "      <td>-1.276326</td>\n",
       "      <td>3</td>\n",
       "      <td>Kawangware</td>\n",
       "      <td>Gatina</td>\n",
       "      <td>Juakali/ artisan shade / garage</td>\n",
       "      <td>Missing values</td>\n",
       "      <td></td>\n",
       "      <td>1781.0</td>\n",
       "    </tr>\n",
       "    <tr>\n",
       "      <th>3</th>\n",
       "      <td>36.751950</td>\n",
       "      <td>-1.279710</td>\n",
       "      <td>4</td>\n",
       "      <td>Kawangware</td>\n",
       "      <td>Gatina</td>\n",
       "      <td>Religious facility</td>\n",
       "      <td>Missing values</td>\n",
       "      <td></td>\n",
       "      <td>1783.0</td>\n",
       "    </tr>\n",
       "    <tr>\n",
       "      <th>4</th>\n",
       "      <td>36.752016</td>\n",
       "      <td>-1.279772</td>\n",
       "      <td>5</td>\n",
       "      <td>Kawangware</td>\n",
       "      <td>Gatina</td>\n",
       "      <td>Juakali/ artisan shade / garage</td>\n",
       "      <td>Missing values</td>\n",
       "      <td></td>\n",
       "      <td>1784.0</td>\n",
       "    </tr>\n",
       "    <tr>\n",
       "      <th>5</th>\n",
       "      <td>36.753380</td>\n",
       "      <td>-1.282131</td>\n",
       "      <td>6</td>\n",
       "      <td>Kawangware</td>\n",
       "      <td>Gatina</td>\n",
       "      <td>Juakali/ artisan shade / garage</td>\n",
       "      <td>Missing values</td>\n",
       "      <td></td>\n",
       "      <td>1771.0</td>\n",
       "    </tr>\n",
       "    <tr>\n",
       "      <th>6</th>\n",
       "      <td>36.753336</td>\n",
       "      <td>-1.282115</td>\n",
       "      <td>7</td>\n",
       "      <td>Kawangware</td>\n",
       "      <td>Gatina</td>\n",
       "      <td>Water point</td>\n",
       "      <td>Individual (eg business owner)</td>\n",
       "      <td></td>\n",
       "      <td>1775.0</td>\n",
       "    </tr>\n",
       "    <tr>\n",
       "      <th>7</th>\n",
       "      <td>36.753321</td>\n",
       "      <td>-1.282064</td>\n",
       "      <td>8</td>\n",
       "      <td>Kawangware</td>\n",
       "      <td>Gatina</td>\n",
       "      <td>Juakali/ artisan shade / garage</td>\n",
       "      <td>Missing values</td>\n",
       "      <td></td>\n",
       "      <td>1789.0</td>\n",
       "    </tr>\n",
       "    <tr>\n",
       "      <th>8</th>\n",
       "      <td>36.753359</td>\n",
       "      <td>-1.282058</td>\n",
       "      <td>9</td>\n",
       "      <td>Kawangware</td>\n",
       "      <td>Gatina</td>\n",
       "      <td>Juakali/ artisan shade / garage</td>\n",
       "      <td>Missing values</td>\n",
       "      <td></td>\n",
       "      <td>1785.0</td>\n",
       "    </tr>\n",
       "    <tr>\n",
       "      <th>9</th>\n",
       "      <td>36.753484</td>\n",
       "      <td>-1.281990</td>\n",
       "      <td>10</td>\n",
       "      <td>Kawangware</td>\n",
       "      <td>Gatina</td>\n",
       "      <td>Water point</td>\n",
       "      <td>Individual (eg business owner)</td>\n",
       "      <td></td>\n",
       "      <td>1792.0</td>\n",
       "    </tr>\n",
       "  </tbody>\n",
       "</table>\n",
       "</div>"
      ],
      "text/plain": [
       "           X         Y  FID  Settlement Village  \\\n",
       "0  36.750830 -1.277331    1  Kawangware  Gatina   \n",
       "1  36.750750 -1.277200    2  Kawangware  Gatina   \n",
       "2  36.750775 -1.276326    3  Kawangware  Gatina   \n",
       "3  36.751950 -1.279710    4  Kawangware  Gatina   \n",
       "4  36.752016 -1.279772    5  Kawangware  Gatina   \n",
       "5  36.753380 -1.282131    6  Kawangware  Gatina   \n",
       "6  36.753336 -1.282115    7  Kawangware  Gatina   \n",
       "7  36.753321 -1.282064    8  Kawangware  Gatina   \n",
       "8  36.753359 -1.282058    9  Kawangware  Gatina   \n",
       "9  36.753484 -1.281990   10  Kawangware  Gatina   \n",
       "\n",
       "                        FacilityTy                      ManagingOr Donor  \\\n",
       "0               Religious facility                  Missing values         \n",
       "1  Juakali/ artisan shade / garage                  Missing values         \n",
       "2  Juakali/ artisan shade / garage                  Missing values         \n",
       "3               Religious facility                  Missing values         \n",
       "4  Juakali/ artisan shade / garage                  Missing values         \n",
       "5  Juakali/ artisan shade / garage                  Missing values         \n",
       "6                      Water point  Individual (eg business owner)         \n",
       "7  Juakali/ artisan shade / garage                  Missing values         \n",
       "8  Juakali/ artisan shade / garage                  Missing values         \n",
       "9                      Water point  Individual (eg business owner)         \n",
       "\n",
       "   Altitude  \n",
       "0    1794.0  \n",
       "1    1790.0  \n",
       "2    1781.0  \n",
       "3    1783.0  \n",
       "4    1784.0  \n",
       "5    1771.0  \n",
       "6    1775.0  \n",
       "7    1789.0  \n",
       "8    1785.0  \n",
       "9    1792.0  "
      ]
     },
     "execution_count": 61,
     "metadata": {},
     "output_type": "execute_result"
    }
   ],
   "source": [
    "#Exploring the Dataset\n",
    "kwng_df.head(10)"
   ]
  },
  {
   "cell_type": "code",
   "execution_count": 62,
   "metadata": {},
   "outputs": [
    {
     "data": {
      "text/plain": [
       "(2238, 9)"
      ]
     },
     "execution_count": 62,
     "metadata": {},
     "output_type": "execute_result"
    }
   ],
   "source": [
    "#Number of records\n",
    "kwng_df.shape"
   ]
  },
  {
   "cell_type": "code",
   "execution_count": 63,
   "metadata": {},
   "outputs": [
    {
     "data": {
      "text/plain": [
       "X             float64\n",
       "Y             float64\n",
       "FID             int64\n",
       "Settlement     object\n",
       "Village        object\n",
       "FacilityTy     object\n",
       "ManagingOr     object\n",
       "Donor          object\n",
       "Altitude      float64\n",
       "dtype: object"
      ]
     },
     "execution_count": 63,
     "metadata": {},
     "output_type": "execute_result"
    }
   ],
   "source": [
    "#data types\n",
    "kwng_df.dtypes"
   ]
  },
  {
   "cell_type": "code",
   "execution_count": 64,
   "metadata": {},
   "outputs": [
    {
     "data": {
      "text/plain": [
       "str"
      ]
     },
     "execution_count": 64,
     "metadata": {},
     "output_type": "execute_result"
    }
   ],
   "source": [
    "type(kwng_df['Village'][0])\n",
    "type(kwng_df['FacilityTy'][0])"
   ]
  },
  {
   "cell_type": "code",
   "execution_count": 65,
   "metadata": {},
   "outputs": [
    {
     "name": "stdout",
     "output_type": "stream",
     "text": [
      "<class 'pandas.core.frame.DataFrame'>\n",
      "RangeIndex: 2238 entries, 0 to 2237\n",
      "Data columns (total 9 columns):\n",
      "X             2238 non-null float64\n",
      "Y             2238 non-null float64\n",
      "FID           2238 non-null int64\n",
      "Settlement    2238 non-null object\n",
      "Village       2238 non-null object\n",
      "FacilityTy    2238 non-null object\n",
      "ManagingOr    2238 non-null object\n",
      "Donor         2237 non-null object\n",
      "Altitude      2238 non-null float64\n",
      "dtypes: float64(3), int64(1), object(5)\n",
      "memory usage: 157.4+ KB\n"
     ]
    }
   ],
   "source": [
    "#Summary of the dataframe\n",
    "kwng_df.info()"
   ]
  },
  {
   "cell_type": "code",
   "execution_count": 66,
   "metadata": {},
   "outputs": [
    {
     "data": {
      "text/plain": [
       "Index(['X', 'Y', 'FID', 'Settlement', 'Village', 'FacilityTy', 'ManagingOr',\n",
       "       'Donor', 'Altitude'],\n",
       "      dtype='object')"
      ]
     },
     "execution_count": 66,
     "metadata": {},
     "output_type": "execute_result"
    }
   ],
   "source": [
    "#View the columns\n",
    "kwng_df.columns"
   ]
  },
  {
   "cell_type": "code",
   "execution_count": 67,
   "metadata": {},
   "outputs": [
    {
     "data": {
      "text/html": [
       "<div>\n",
       "<style scoped>\n",
       "    .dataframe tbody tr th:only-of-type {\n",
       "        vertical-align: middle;\n",
       "    }\n",
       "\n",
       "    .dataframe tbody tr th {\n",
       "        vertical-align: top;\n",
       "    }\n",
       "\n",
       "    .dataframe thead th {\n",
       "        text-align: right;\n",
       "    }\n",
       "</style>\n",
       "<table border=\"1\" class=\"dataframe\">\n",
       "  <thead>\n",
       "    <tr style=\"text-align: right;\">\n",
       "      <th></th>\n",
       "      <th>X</th>\n",
       "      <th>Y</th>\n",
       "      <th>FID</th>\n",
       "      <th>Settlement</th>\n",
       "      <th>Village</th>\n",
       "      <th>FacilityTy</th>\n",
       "      <th>ManagingOr</th>\n",
       "      <th>Donor</th>\n",
       "      <th>Altitude</th>\n",
       "    </tr>\n",
       "  </thead>\n",
       "  <tbody>\n",
       "    <tr>\n",
       "      <th>0</th>\n",
       "      <td>36.750830</td>\n",
       "      <td>-1.277331</td>\n",
       "      <td>1</td>\n",
       "      <td>Kawangware</td>\n",
       "      <td>Gatina</td>\n",
       "      <td>Religious facility</td>\n",
       "      <td>Missing values</td>\n",
       "      <td></td>\n",
       "      <td>1794.0</td>\n",
       "    </tr>\n",
       "    <tr>\n",
       "      <th>1</th>\n",
       "      <td>36.750750</td>\n",
       "      <td>-1.277200</td>\n",
       "      <td>2</td>\n",
       "      <td>Kawangware</td>\n",
       "      <td>Gatina</td>\n",
       "      <td>Juakali/ artisan shade / garage</td>\n",
       "      <td>Missing values</td>\n",
       "      <td></td>\n",
       "      <td>1790.0</td>\n",
       "    </tr>\n",
       "    <tr>\n",
       "      <th>2</th>\n",
       "      <td>36.750775</td>\n",
       "      <td>-1.276326</td>\n",
       "      <td>3</td>\n",
       "      <td>Kawangware</td>\n",
       "      <td>Gatina</td>\n",
       "      <td>Juakali/ artisan shade / garage</td>\n",
       "      <td>Missing values</td>\n",
       "      <td></td>\n",
       "      <td>1781.0</td>\n",
       "    </tr>\n",
       "    <tr>\n",
       "      <th>3</th>\n",
       "      <td>36.751950</td>\n",
       "      <td>-1.279710</td>\n",
       "      <td>4</td>\n",
       "      <td>Kawangware</td>\n",
       "      <td>Gatina</td>\n",
       "      <td>Religious facility</td>\n",
       "      <td>Missing values</td>\n",
       "      <td></td>\n",
       "      <td>1783.0</td>\n",
       "    </tr>\n",
       "  </tbody>\n",
       "</table>\n",
       "</div>"
      ],
      "text/plain": [
       "           X         Y  FID  Settlement Village  \\\n",
       "0  36.750830 -1.277331    1  Kawangware  Gatina   \n",
       "1  36.750750 -1.277200    2  Kawangware  Gatina   \n",
       "2  36.750775 -1.276326    3  Kawangware  Gatina   \n",
       "3  36.751950 -1.279710    4  Kawangware  Gatina   \n",
       "\n",
       "                        FacilityTy      ManagingOr Donor  Altitude  \n",
       "0               Religious facility  Missing values          1794.0  \n",
       "1  Juakali/ artisan shade / garage  Missing values          1790.0  \n",
       "2  Juakali/ artisan shade / garage  Missing values          1781.0  \n",
       "3               Religious facility  Missing values          1783.0  "
      ]
     },
     "execution_count": 67,
     "metadata": {},
     "output_type": "execute_result"
    }
   ],
   "source": [
    "#First four rows\n",
    "kwng_df.iloc[0:4]"
   ]
  },
  {
   "cell_type": "markdown",
   "metadata": {},
   "source": [
    "**Exploring and visualizing the data for Kawangware settlement**"
   ]
  },
  {
   "cell_type": "code",
   "execution_count": 68,
   "metadata": {},
   "outputs": [
    {
     "data": {
      "text/plain": [
       "Juakali/ artisan shade / garage                             617\n",
       "Hand washing facility                                       361\n",
       "Religious facility                                          203\n",
       "Water point                                                 195\n",
       "Waste collection bin / open dumping area                    186\n",
       "Education Facility                                          114\n",
       "Flood light                                                 101\n",
       "Transport stops (matatus/ boda-boda) - formal & informal     89\n",
       "Health facility                                              78\n",
       "Pharmacy / chemist                                           77\n",
       "Other                                                        67\n",
       "Market                                                       41\n",
       "Local organization/ NGO office                               39\n",
       "Public space                                                 23\n",
       "Communal sanitation facility (eg toilet)                     17\n",
       "Social hall / community centre / resource centre             15\n",
       "Local administrative office                                   9\n",
       "Police station                                                6\n",
       "Name: FacilityTy, dtype: int64"
      ]
     },
     "execution_count": 68,
     "metadata": {},
     "output_type": "execute_result"
    }
   ],
   "source": [
    "#Counting the different facilities\n",
    "kwng_df['FacilityTy'].value_counts()"
   ]
  },
  {
   "cell_type": "code",
   "execution_count": 69,
   "metadata": {},
   "outputs": [
    {
     "data": {
      "image/png": "[encoded data removed]",
      "text/plain": [
       "<Figure size 2880x576 with 1 Axes>"
      ]
     },
     "metadata": {
      "needs_background": "light"
     },
     "output_type": "display_data"
    }
   ],
   "source": [
    "#Plotting the facility types in Kawangware\n",
    "topFac = kwng_df['FacilityTy'].value_counts().plot(kind = 'bar', figsize=(40,8))"
   ]
  },
  {
   "cell_type": "code",
   "execution_count": 57,
   "metadata": {},
   "outputs": [
    {
     "data": {
      "text/plain": [
       "<matplotlib.axes._subplots.AxesSubplot at 0x1ecaf5ee0f0>"
      ]
     },
     "execution_count": 57,
     "metadata": {},
     "output_type": "execute_result"
    },
    {
     "data": {
      "image/png": "[encoded data removed]",
      "text/plain": [
       "<Figure size 432x288 with 1 Axes>"
      ]
     },
     "metadata": {
      "needs_background": "light"
     },
     "output_type": "display_data"
    }
   ],
   "source": [
    "#Plotting the five most common facilties in Kawangware\n",
    "top7 = kwng_df['FacilityTy'].value_counts()\n",
    "top7.sort_values(ascending=False)\n",
    "top7 = top7[:7]\n",
    "top7.plot(kind = \"bar\")"
   ]
  },
  {
   "cell_type": "markdown",
   "metadata": {},
   "source": [
    "From the bar graph above, the most common facilities in Kawangware are Juakali shades, handwashing facilities, religious facilities.Again, here, religious facilities are more than educational facilities. There also no health facilities in the top seven despite health being a top priority issue."
   ]
  },
  {
   "cell_type": "code",
   "execution_count": 70,
   "metadata": {},
   "outputs": [
    {
     "data": {
      "text/plain": [
       "Missing values                                                           951\n",
       "Individual (eg business owner)                                           655\n",
       "County government                                                        207\n",
       "No one                                                                   169\n",
       "Community group                                                          100\n",
       "Private company                                                           60\n",
       "National government                                                       28\n",
       "NGO                                                                       18\n",
       "UN Agency                                                                 10\n",
       "Other                                                                      8\n",
       "Individual (eg business owner) County government                           6\n",
       "Individual (eg business owner) National government                         3\n",
       "Community group County government                                          3\n",
       "Private company Individual (eg business owner)                             3\n",
       "Individual (eg business owner) Private company                             2\n",
       "County government  National government                                     1\n",
       "No one County government                                                   1\n",
       "Individual (eg business owner) Community group County government           1\n",
       "National government County government                                      1\n",
       "Private company County government                                          1\n",
       "NGO Community group                                                        1\n",
       "National government Individual (eg business owner)                         1\n",
       "Community group NGO                                                        1\n",
       "Individual (eg business owner) UN Agency                                   1\n",
       "Private company Community group                                            1\n",
       "Community group National government                                        1\n",
       "Individual (eg business owner) Community group                             1\n",
       "Community group Individual (eg business owner)                             1\n",
       "Community group No one                                                     1\n",
       "County government  Individual (eg business owner) National government      1\n",
       "Name: ManagingOr, dtype: int64"
      ]
     },
     "execution_count": 70,
     "metadata": {},
     "output_type": "execute_result"
    }
   ],
   "source": [
    "# Checking who manages the facilities\n",
    "kwng_df['ManagingOr'].value_counts()"
   ]
  },
  {
   "cell_type": "code",
   "execution_count": 71,
   "metadata": {},
   "outputs": [
    {
     "data": {
      "text/plain": [
       "<matplotlib.axes._subplots.AxesSubplot at 0x1ecacf74a20>"
      ]
     },
     "execution_count": 71,
     "metadata": {},
     "output_type": "execute_result"
    },
    {
     "data": {
      "image/png": "[encoded data removed]",
      "text/plain": [
       "<Figure size 432x288 with 1 Axes>"
      ]
     },
     "metadata": {
      "needs_background": "light"
     },
     "output_type": "display_data"
    }
   ],
   "source": [
    "#Plotting the top 5 managing organizations\n",
    "top5 = kwng_df['ManagingOr'].value_counts()\n",
    "top5.sort_values(ascending=False)\n",
    "top5 = top5[:5]\n",
    "top5.plot(kind = \"bar\")"
   ]
  },
  {
   "cell_type": "markdown",
   "metadata": {},
   "source": [
    "Unfortunately there are many missing values for this dataset. Most facilities are managed by individuals and the county government."
   ]
  },
  {
   "cell_type": "code",
   "execution_count": 74,
   "metadata": {},
   "outputs": [
    {
     "data": {
      "text/plain": [
       "array(['Gatina', 'Gatina', 'Gatina', ..., 'Gatina', 'Gatina', 'Gatina'],\n",
       "      dtype=object)"
      ]
     },
     "execution_count": 74,
     "metadata": {},
     "output_type": "execute_result"
    }
   ],
   "source": [
    "#Extract the village and facility type columns from the Kawangware dataset. Node_df variable to be used later in the code.\n",
    "node_df = kwng_df[['Village', 'FacilityTy']]\n",
    "n_df = kwng_df['Village']\n",
    "\n",
    "#Preprocess the village column so that null values are dropped.\n",
    "v=(n_df.dropna()).values\n",
    "v"
   ]
  },
  {
   "cell_type": "code",
   "execution_count": 75,
   "metadata": {},
   "outputs": [
    {
     "data": {
      "text/plain": [
       "['46',\n",
       " '56',\n",
       " 'Amboseli',\n",
       " 'Coast',\n",
       " 'Congo',\n",
       " 'Deliverance',\n",
       " 'Gatina',\n",
       " 'Kabiria',\n",
       " 'Kabiro',\n",
       " 'Kawangware',\n",
       " 'Kawangware Sokoni',\n",
       " 'Muslim',\n",
       " 'Nyakinywa Road',\n",
       " 'Riruta',\n",
       " 'Stage Two',\n",
       " 'Wanyee']"
      ]
     },
     "execution_count": 75,
     "metadata": {},
     "output_type": "execute_result"
    }
   ],
   "source": [
    "#create a list of unique village values without repetition and convert numpy array back to list\n",
    "#this list will be used to check on each row while looping\n",
    "village_id= (np.unique(v)).tolist()\n",
    "village_id"
   ]
  },
  {
   "cell_type": "code",
   "execution_count": 76,
   "metadata": {},
   "outputs": [
    {
     "name": "stdout",
     "output_type": "stream",
     "text": [
      "              Village  Juakali/ artisan shade / garage  Hand washing facility  \\\n",
      "0                  46                                9                      2   \n",
      "1                  56                               33                     10   \n",
      "2            Amboseli                                0                      2   \n",
      "3               Coast                               26                     20   \n",
      "4               Congo                                9                     15   \n",
      "5         Deliverance                               14                      2   \n",
      "6              Gatina                              253                     89   \n",
      "7             Kabiria                               20                      3   \n",
      "8              Kabiro                               66                    157   \n",
      "9          Kawangware                               18                      9   \n",
      "10  Kawangware Sokoni                               26                     13   \n",
      "11             Muslim                               84                     23   \n",
      "12     Nyakinywa Road                                1                      0   \n",
      "13             Riruta                               33                      2   \n",
      "14          Stage Two                                0                      6   \n",
      "15             Wanyee                               25                      8   \n",
      "\n",
      "    Religious facility  Water point  Waste collection bin / open dumping area  \n",
      "0                    1            0                                         1  \n",
      "1                    1            1                                         0  \n",
      "2                    5            1                                         5  \n",
      "3                    8           18                                        11  \n",
      "4                    7            8                                        20  \n",
      "5                    2            9                                         4  \n",
      "6                   42           51                                        72  \n",
      "7                   38           12                                         1  \n",
      "8                   48           46                                        25  \n",
      "9                    1            2                                         6  \n",
      "10                  10           20                                        20  \n",
      "11                  10            3                                         3  \n",
      "12                   0            0                                         0  \n",
      "13                  21           15                                         1  \n",
      "14                   2            0                                         1  \n",
      "15                   7            9                                        16  \n"
     ]
    }
   ],
   "source": [
    "##create empty dictionary to store required data values after looping operation\n",
    "results = {\"Village\":[],\"Juakali/ artisan shade / garage\":[],\"Hand washing facility\":[], \"Religious facility\":[],\"Water point\":[],\"Waste collection bin / open dumping area\":[]}\n",
    "\n",
    "\n",
    "village_indexed=node_df.set_index(\"Village\")\n",
    "\n",
    "for i in village_id:\n",
    "    jk=0\n",
    "    hwf=0\n",
    "    ref=0\n",
    "    wp=0\n",
    "    wb=0\n",
    "    for Village,FacilityTy in village_indexed.iterrows():\n",
    "        if Village==i:\n",
    "            if FacilityTy.values==\"Juakali/ artisan shade / garage\":\n",
    "                jk+=1\n",
    "            if FacilityTy.values==\"Hand washing facility\":\n",
    "                hwf+=1\n",
    "            if FacilityTy.values==\"Religious facility\":\n",
    "                ref+=1\n",
    "            if FacilityTy.values==\"Water point\":\n",
    "                wp+=1\n",
    "            if FacilityTy.values==\"Waste collection bin / open dumping area\":\n",
    "                wb+=1    \n",
    "    results[\"Village\"].append(i)\n",
    "    results[\"Juakali/ artisan shade / garage\"].append(jk)\n",
    "    results[\"Hand washing facility\"].append(hwf)\n",
    "    results[\"Religious facility\"].append(ref)\n",
    "    results[\"Water point\"].append(wp)\n",
    "    results[\"Waste collection bin / open dumping area\"].append(wb)\n",
    "    \n",
    "vge_facility_count = pd.DataFrame.from_dict(results)\n",
    "print(vge_facility_count)\n",
    "#vge_facility_count.to_csv(\"C:/Users/Lenovo X1/Desktop/vge6.csv\")    "
   ]
  },
  {
   "cell_type": "code",
   "execution_count": 81,
   "metadata": {},
   "outputs": [
    {
     "data": {
      "text/html": [
       "<div>\n",
       "<style scoped>\n",
       "    .dataframe tbody tr th:only-of-type {\n",
       "        vertical-align: middle;\n",
       "    }\n",
       "\n",
       "    .dataframe tbody tr th {\n",
       "        vertical-align: top;\n",
       "    }\n",
       "\n",
       "    .dataframe thead th {\n",
       "        text-align: right;\n",
       "    }\n",
       "</style>\n",
       "<table border=\"1\" class=\"dataframe\">\n",
       "  <thead>\n",
       "    <tr style=\"text-align: right;\">\n",
       "      <th></th>\n",
       "      <th>Village</th>\n",
       "      <th>Juakali/ artisan shade / garage</th>\n",
       "      <th>Hand washing facility</th>\n",
       "      <th>Religious facility</th>\n",
       "      <th>Water point</th>\n",
       "      <th>Waste collection bin / open dumping area</th>\n",
       "    </tr>\n",
       "  </thead>\n",
       "  <tbody>\n",
       "    <tr>\n",
       "      <th>1</th>\n",
       "      <td>56</td>\n",
       "      <td>33</td>\n",
       "      <td>10</td>\n",
       "      <td>1</td>\n",
       "      <td>1</td>\n",
       "      <td>0</td>\n",
       "    </tr>\n",
       "    <tr>\n",
       "      <th>2</th>\n",
       "      <td>Amboseli</td>\n",
       "      <td>0</td>\n",
       "      <td>2</td>\n",
       "      <td>5</td>\n",
       "      <td>1</td>\n",
       "      <td>5</td>\n",
       "    </tr>\n",
       "    <tr>\n",
       "      <th>3</th>\n",
       "      <td>Coast</td>\n",
       "      <td>26</td>\n",
       "      <td>20</td>\n",
       "      <td>8</td>\n",
       "      <td>18</td>\n",
       "      <td>11</td>\n",
       "    </tr>\n",
       "    <tr>\n",
       "      <th>4</th>\n",
       "      <td>Congo</td>\n",
       "      <td>9</td>\n",
       "      <td>15</td>\n",
       "      <td>7</td>\n",
       "      <td>8</td>\n",
       "      <td>20</td>\n",
       "    </tr>\n",
       "    <tr>\n",
       "      <th>5</th>\n",
       "      <td>Deliverance</td>\n",
       "      <td>14</td>\n",
       "      <td>2</td>\n",
       "      <td>2</td>\n",
       "      <td>9</td>\n",
       "      <td>4</td>\n",
       "    </tr>\n",
       "    <tr>\n",
       "      <th>6</th>\n",
       "      <td>Gatina</td>\n",
       "      <td>253</td>\n",
       "      <td>89</td>\n",
       "      <td>42</td>\n",
       "      <td>51</td>\n",
       "      <td>72</td>\n",
       "    </tr>\n",
       "    <tr>\n",
       "      <th>7</th>\n",
       "      <td>Kabiria</td>\n",
       "      <td>20</td>\n",
       "      <td>3</td>\n",
       "      <td>38</td>\n",
       "      <td>12</td>\n",
       "      <td>1</td>\n",
       "    </tr>\n",
       "    <tr>\n",
       "      <th>8</th>\n",
       "      <td>Kabiro</td>\n",
       "      <td>66</td>\n",
       "      <td>157</td>\n",
       "      <td>48</td>\n",
       "      <td>46</td>\n",
       "      <td>25</td>\n",
       "    </tr>\n",
       "    <tr>\n",
       "      <th>10</th>\n",
       "      <td>Kawangware Sokoni</td>\n",
       "      <td>26</td>\n",
       "      <td>13</td>\n",
       "      <td>10</td>\n",
       "      <td>20</td>\n",
       "      <td>20</td>\n",
       "    </tr>\n",
       "    <tr>\n",
       "      <th>11</th>\n",
       "      <td>Muslim</td>\n",
       "      <td>84</td>\n",
       "      <td>23</td>\n",
       "      <td>10</td>\n",
       "      <td>3</td>\n",
       "      <td>3</td>\n",
       "    </tr>\n",
       "    <tr>\n",
       "      <th>13</th>\n",
       "      <td>Riruta</td>\n",
       "      <td>33</td>\n",
       "      <td>2</td>\n",
       "      <td>21</td>\n",
       "      <td>15</td>\n",
       "      <td>1</td>\n",
       "    </tr>\n",
       "    <tr>\n",
       "      <th>15</th>\n",
       "      <td>Wanyee</td>\n",
       "      <td>25</td>\n",
       "      <td>8</td>\n",
       "      <td>7</td>\n",
       "      <td>9</td>\n",
       "      <td>16</td>\n",
       "    </tr>\n",
       "  </tbody>\n",
       "</table>\n",
       "</div>"
      ],
      "text/plain": [
       "              Village  Juakali/ artisan shade / garage  Hand washing facility  \\\n",
       "1                  56                               33                     10   \n",
       "2            Amboseli                                0                      2   \n",
       "3               Coast                               26                     20   \n",
       "4               Congo                                9                     15   \n",
       "5         Deliverance                               14                      2   \n",
       "6              Gatina                              253                     89   \n",
       "7             Kabiria                               20                      3   \n",
       "8              Kabiro                               66                    157   \n",
       "10  Kawangware Sokoni                               26                     13   \n",
       "11             Muslim                               84                     23   \n",
       "13             Riruta                               33                      2   \n",
       "15             Wanyee                               25                      8   \n",
       "\n",
       "    Religious facility  Water point  Waste collection bin / open dumping area  \n",
       "1                    1            1                                         0  \n",
       "2                    5            1                                         5  \n",
       "3                    8           18                                        11  \n",
       "4                    7            8                                        20  \n",
       "5                    2            9                                         4  \n",
       "6                   42           51                                        72  \n",
       "7                   38           12                                         1  \n",
       "8                   48           46                                        25  \n",
       "10                  10           20                                        20  \n",
       "11                  10            3                                         3  \n",
       "13                  21           15                                         1  \n",
       "15                   7            9                                        16  "
      ]
     },
     "execution_count": 81,
     "metadata": {},
     "output_type": "execute_result"
    }
   ],
   "source": [
    "#Drop villages not captured in the population dataset\n",
    "village_facility=vge_facility_count.drop([0,9,12,14])\n",
    "village_facility"
   ]
  },
  {
   "cell_type": "code",
   "execution_count": 82,
   "metadata": {},
   "outputs": [
    {
     "data": {
      "text/plain": [
       "<matplotlib.axes._subplots.AxesSubplot at 0x1ecada30e10>"
      ]
     },
     "execution_count": 82,
     "metadata": {},
     "output_type": "execute_result"
    },
    {
     "data": {
      "image/png": "[encoded data removed]",
      "text/plain": [
       "<Figure size 1296x360 with 1 Axes>"
      ]
     },
     "metadata": {
      "needs_background": "light"
     },
     "output_type": "display_data"
    }
   ],
   "source": [
    "#Plotting the facilities in each village\n",
    "village_facility.plot(x='Village',kind='bar',stacked=False, figsize=(18,5), title='Number of Facilities per village', grid=True)"
   ]
  },
  {
   "cell_type": "markdown",
   "metadata": {},
   "source": [
    "From this graph, Gatina and Kabiro villages have the highest number of facilities. In most villages, juakali shades are the most common facilties. Many villages also have more religious than education facilities."
   ]
  },
  {
   "cell_type": "code",
   "execution_count": 83,
   "metadata": {},
   "outputs": [],
   "source": [
    "#Loading Kawangware's population Dataset\n",
    "kwng2_df = pd.read_csv('Kawangware_Population.csv')"
   ]
  },
  {
   "cell_type": "code",
   "execution_count": 84,
   "metadata": {},
   "outputs": [
    {
     "data": {
      "text/plain": [
       "<matplotlib.axes._subplots.AxesSubplot at 0x1ecade3db38>"
      ]
     },
     "execution_count": 84,
     "metadata": {},
     "output_type": "execute_result"
    },
    {
     "data": {
      "image/png": "[encoded data removed]",
      "text/plain": [
       "<Figure size 1440x504 with 2 Axes>"
      ]
     },
     "metadata": {
      "needs_background": "light"
     },
     "output_type": "display_data"
    }
   ],
   "source": [
    "#A graph to visualize the population served by the facilities\n",
    "village_facility.plot(x='Village',kind='bar',stacked=False, figsize=(20,7), title='Number of Facilities Serving Village Population', grid=True)\n",
    "kwng2_df['SUM'].plot(secondary_y=True)"
   ]
  },
  {
   "cell_type": "markdown",
   "metadata": {},
   "source": [
    "Gatina, Kawangware Sokoni and Riruta have the highest population. They should have more facilities to cater for the high number of people. Other than Coast and Kabiro villages, the rest of the villages have inadequate facilities to cater for the high population. There is therefore a need for more facilities in most of the villages."
   ]
  },
  {
   "cell_type": "markdown",
   "metadata": {},
   "source": [
    "**Mathare Slum Settlement**"
   ]
  },
  {
   "cell_type": "code",
   "execution_count": 107,
   "metadata": {},
   "outputs": [],
   "source": [
    "#Loading the Mathare Dataset\n",
    "mat_df = pd.read_csv('Mathare.csv')"
   ]
  },
  {
   "cell_type": "code",
   "execution_count": 108,
   "metadata": {},
   "outputs": [
    {
     "data": {
      "text/html": [
       "<div>\n",
       "<style scoped>\n",
       "    .dataframe tbody tr th:only-of-type {\n",
       "        vertical-align: middle;\n",
       "    }\n",
       "\n",
       "    .dataframe tbody tr th {\n",
       "        vertical-align: top;\n",
       "    }\n",
       "\n",
       "    .dataframe thead th {\n",
       "        text-align: right;\n",
       "    }\n",
       "</style>\n",
       "<table border=\"1\" class=\"dataframe\">\n",
       "  <thead>\n",
       "    <tr style=\"text-align: right;\">\n",
       "      <th></th>\n",
       "      <th>X</th>\n",
       "      <th>Y</th>\n",
       "      <th>FID</th>\n",
       "      <th>Settlement</th>\n",
       "      <th>Village</th>\n",
       "      <th>FacilityTy</th>\n",
       "      <th>ManagingOr</th>\n",
       "      <th>Donor</th>\n",
       "      <th>Altitude</th>\n",
       "    </tr>\n",
       "  </thead>\n",
       "  <tbody>\n",
       "    <tr>\n",
       "      <th>0</th>\n",
       "      <td>36.858138</td>\n",
       "      <td>-1.262198</td>\n",
       "      <td>1</td>\n",
       "      <td>Mathare</td>\n",
       "      <td>Mathare 4a</td>\n",
       "      <td>Education Facility</td>\n",
       "      <td>Individual (eg business owner)</td>\n",
       "      <td>Go Abroad .com</td>\n",
       "      <td>1652.3</td>\n",
       "    </tr>\n",
       "    <tr>\n",
       "      <th>1</th>\n",
       "      <td>36.858113</td>\n",
       "      <td>-1.262263</td>\n",
       "      <td>2</td>\n",
       "      <td>Mathare</td>\n",
       "      <td>Mathare 4a</td>\n",
       "      <td>Communal sanitation facility (eg toilet)</td>\n",
       "      <td>Individual (eg business owner)</td>\n",
       "      <td>Fresh life</td>\n",
       "      <td>1652.2</td>\n",
       "    </tr>\n",
       "    <tr>\n",
       "      <th>2</th>\n",
       "      <td>36.857717</td>\n",
       "      <td>-1.261718</td>\n",
       "      <td>3</td>\n",
       "      <td>Mathare</td>\n",
       "      <td>Mathare 4a</td>\n",
       "      <td>Hand washing facility</td>\n",
       "      <td>NGO</td>\n",
       "      <td>Shofco</td>\n",
       "      <td>1654.0</td>\n",
       "    </tr>\n",
       "    <tr>\n",
       "      <th>3</th>\n",
       "      <td>36.857732</td>\n",
       "      <td>-1.261712</td>\n",
       "      <td>4</td>\n",
       "      <td>Mathare</td>\n",
       "      <td>Mathare 4a</td>\n",
       "      <td>Education Facility</td>\n",
       "      <td>Individual (eg business owner)</td>\n",
       "      <td>None</td>\n",
       "      <td>1648.5</td>\n",
       "    </tr>\n",
       "    <tr>\n",
       "      <th>4</th>\n",
       "      <td>36.857940</td>\n",
       "      <td>-1.262132</td>\n",
       "      <td>5</td>\n",
       "      <td>Mathare</td>\n",
       "      <td>Mathare 4a</td>\n",
       "      <td>Education Facility</td>\n",
       "      <td>Individual (eg business owner)</td>\n",
       "      <td>None</td>\n",
       "      <td>1648.4</td>\n",
       "    </tr>\n",
       "    <tr>\n",
       "      <th>5</th>\n",
       "      <td>36.857680</td>\n",
       "      <td>-1.262242</td>\n",
       "      <td>6</td>\n",
       "      <td>Mathare</td>\n",
       "      <td>Mathare 4a</td>\n",
       "      <td>Water point</td>\n",
       "      <td>Individual (eg business owner)</td>\n",
       "      <td>None</td>\n",
       "      <td>1648.4</td>\n",
       "    </tr>\n",
       "    <tr>\n",
       "      <th>6</th>\n",
       "      <td>36.857633</td>\n",
       "      <td>-1.261560</td>\n",
       "      <td>7</td>\n",
       "      <td>Mathare</td>\n",
       "      <td>Mathare 4a</td>\n",
       "      <td>Religious facility</td>\n",
       "      <td>Missing Values</td>\n",
       "      <td></td>\n",
       "      <td>1646.1</td>\n",
       "    </tr>\n",
       "    <tr>\n",
       "      <th>7</th>\n",
       "      <td>36.857675</td>\n",
       "      <td>-1.261600</td>\n",
       "      <td>8</td>\n",
       "      <td>Mathare</td>\n",
       "      <td>Mathare 4a</td>\n",
       "      <td>Communal sanitation facility (eg toilet)</td>\n",
       "      <td>Community group</td>\n",
       "      <td>None</td>\n",
       "      <td>1646.1</td>\n",
       "    </tr>\n",
       "    <tr>\n",
       "      <th>8</th>\n",
       "      <td>36.857472</td>\n",
       "      <td>-1.261990</td>\n",
       "      <td>9</td>\n",
       "      <td>Mathare</td>\n",
       "      <td>Mathare 4a</td>\n",
       "      <td>Religious facility</td>\n",
       "      <td>Missing Values</td>\n",
       "      <td></td>\n",
       "      <td>1646.2</td>\n",
       "    </tr>\n",
       "    <tr>\n",
       "      <th>9</th>\n",
       "      <td>36.857328</td>\n",
       "      <td>-1.261893</td>\n",
       "      <td>10</td>\n",
       "      <td>Mathare</td>\n",
       "      <td>Mathare 4a</td>\n",
       "      <td>Health facility</td>\n",
       "      <td>Individual (eg business owner)</td>\n",
       "      <td>None</td>\n",
       "      <td>1645.9</td>\n",
       "    </tr>\n",
       "  </tbody>\n",
       "</table>\n",
       "</div>"
      ],
      "text/plain": [
       "           X         Y  FID Settlement     Village  \\\n",
       "0  36.858138 -1.262198    1    Mathare  Mathare 4a   \n",
       "1  36.858113 -1.262263    2    Mathare  Mathare 4a   \n",
       "2  36.857717 -1.261718    3    Mathare  Mathare 4a   \n",
       "3  36.857732 -1.261712    4    Mathare  Mathare 4a   \n",
       "4  36.857940 -1.262132    5    Mathare  Mathare 4a   \n",
       "5  36.857680 -1.262242    6    Mathare  Mathare 4a   \n",
       "6  36.857633 -1.261560    7    Mathare  Mathare 4a   \n",
       "7  36.857675 -1.261600    8    Mathare  Mathare 4a   \n",
       "8  36.857472 -1.261990    9    Mathare  Mathare 4a   \n",
       "9  36.857328 -1.261893   10    Mathare  Mathare 4a   \n",
       "\n",
       "                                 FacilityTy                      ManagingOr  \\\n",
       "0                        Education Facility  Individual (eg business owner)   \n",
       "1  Communal sanitation facility (eg toilet)  Individual (eg business owner)   \n",
       "2                     Hand washing facility                             NGO   \n",
       "3                        Education Facility  Individual (eg business owner)   \n",
       "4                        Education Facility  Individual (eg business owner)   \n",
       "5                               Water point  Individual (eg business owner)   \n",
       "6                        Religious facility                  Missing Values   \n",
       "7  Communal sanitation facility (eg toilet)                 Community group   \n",
       "8                        Religious facility                  Missing Values   \n",
       "9                           Health facility  Individual (eg business owner)   \n",
       "\n",
       "            Donor  Altitude  \n",
       "0  Go Abroad .com    1652.3  \n",
       "1      Fresh life    1652.2  \n",
       "2          Shofco    1654.0  \n",
       "3            None    1648.5  \n",
       "4            None    1648.4  \n",
       "5            None    1648.4  \n",
       "6                    1646.1  \n",
       "7            None    1646.1  \n",
       "8                    1646.2  \n",
       "9            None    1645.9  "
      ]
     },
     "execution_count": 108,
     "metadata": {},
     "output_type": "execute_result"
    }
   ],
   "source": [
    "#Exploring the dataset\n",
    "mat_df.head(10)"
   ]
  },
  {
   "cell_type": "code",
   "execution_count": 109,
   "metadata": {},
   "outputs": [
    {
     "data": {
      "text/plain": [
       "(1122, 9)"
      ]
     },
     "execution_count": 109,
     "metadata": {},
     "output_type": "execute_result"
    }
   ],
   "source": [
    "#Checking the number of records\n",
    "mat_df.shape"
   ]
  },
  {
   "cell_type": "code",
   "execution_count": 110,
   "metadata": {},
   "outputs": [
    {
     "data": {
      "text/plain": [
       "X             float64\n",
       "Y             float64\n",
       "FID             int64\n",
       "Settlement     object\n",
       "Village        object\n",
       "FacilityTy     object\n",
       "ManagingOr     object\n",
       "Donor          object\n",
       "Altitude      float64\n",
       "dtype: object"
      ]
     },
     "execution_count": 110,
     "metadata": {},
     "output_type": "execute_result"
    }
   ],
   "source": [
    "#Data types\n",
    "mat_df.dtypes"
   ]
  },
  {
   "cell_type": "code",
   "execution_count": 111,
   "metadata": {},
   "outputs": [
    {
     "data": {
      "text/plain": [
       "str"
      ]
     },
     "execution_count": 111,
     "metadata": {},
     "output_type": "execute_result"
    }
   ],
   "source": [
    "type(mat_df['Village'][0])"
   ]
  },
  {
   "cell_type": "code",
   "execution_count": 112,
   "metadata": {},
   "outputs": [
    {
     "name": "stdout",
     "output_type": "stream",
     "text": [
      "<class 'pandas.core.frame.DataFrame'>\n",
      "RangeIndex: 1122 entries, 0 to 1121\n",
      "Data columns (total 9 columns):\n",
      "X             1122 non-null float64\n",
      "Y             1122 non-null float64\n",
      "FID           1122 non-null int64\n",
      "Settlement    1122 non-null object\n",
      "Village       1122 non-null object\n",
      "FacilityTy    1122 non-null object\n",
      "ManagingOr    1122 non-null object\n",
      "Donor         1116 non-null object\n",
      "Altitude      1122 non-null float64\n",
      "dtypes: float64(3), int64(1), object(5)\n",
      "memory usage: 79.0+ KB\n"
     ]
    }
   ],
   "source": [
    "#Summary of the dataframe\n",
    "mat_df.info()"
   ]
  },
  {
   "cell_type": "code",
   "execution_count": 113,
   "metadata": {},
   "outputs": [
    {
     "data": {
      "text/plain": [
       "Index(['X', 'Y', 'FID', 'Settlement', 'Village', 'FacilityTy', 'ManagingOr',\n",
       "       'Donor', 'Altitude'],\n",
       "      dtype='object')"
      ]
     },
     "execution_count": 113,
     "metadata": {},
     "output_type": "execute_result"
    }
   ],
   "source": [
    "#viewing the columns\n",
    "mat_df.columns"
   ]
  },
  {
   "cell_type": "markdown",
   "metadata": {},
   "source": [
    "**Exploring and visualizing the data for Mathare settlement**"
   ]
  },
  {
   "cell_type": "code",
   "execution_count": 114,
   "metadata": {},
   "outputs": [
    {
     "data": {
      "text/plain": [
       "Hand washing facility                                       281\n",
       "Water point                                                 259\n",
       "Communal sanitation facility (eg toilet)                    169\n",
       "Education Facility                                           77\n",
       "Religious facility                                           59\n",
       "Pharmacy / chemist                                           45\n",
       "Flood light                                                  40\n",
       "Health facility                                              34\n",
       "Public space                                                 29\n",
       "Waste collection bin / open dumping area                     27\n",
       "Market                                                       24\n",
       "Social hall / community centre / resource centre             22\n",
       "Juakali/ artisan shade / garage                              16\n",
       "Transport stops (matatus/ boda-boda) - formal & informal     15\n",
       "Local organization/ NGO office                               11\n",
       "Other                                                         7\n",
       "Communal kitchen                                              4\n",
       "Local administrative office                                   3\n",
       "Name: FacilityTy, dtype: int64"
      ]
     },
     "execution_count": 114,
     "metadata": {},
     "output_type": "execute_result"
    }
   ],
   "source": [
    "#Counting the different fqcilities\n",
    "mat_df['FacilityTy'].value_counts()"
   ]
  },
  {
   "cell_type": "code",
   "execution_count": 115,
   "metadata": {},
   "outputs": [
    {
     "data": {
      "image/png": "[encoded data removed]",
      "text/plain": [
       "<Figure size 2880x576 with 1 Axes>"
      ]
     },
     "metadata": {
      "needs_background": "light"
     },
     "output_type": "display_data"
    }
   ],
   "source": [
    "#Graph for the most common facilities in Mathare\n",
    "topFac = mat_df['FacilityTy'].value_counts().plot(kind = 'bar', figsize=(40,8))"
   ]
  },
  {
   "cell_type": "code",
   "execution_count": 116,
   "metadata": {},
   "outputs": [
    {
     "data": {
      "text/plain": [
       "<matplotlib.axes._subplots.AxesSubplot at 0x1ecadeb8c88>"
      ]
     },
     "execution_count": 116,
     "metadata": {},
     "output_type": "execute_result"
    },
    {
     "data": {
      "image/png": "[encoded data removed]",
      "text/plain": [
       "<Figure size 432x288 with 1 Axes>"
      ]
     },
     "metadata": {
      "needs_background": "light"
     },
     "output_type": "display_data"
    }
   ],
   "source": [
    "#Plot the first five facilities\n",
    "top5 = mat_df['FacilityTy'].value_counts()\n",
    "top5.sort_values(ascending=False)\n",
    "top5 = top5[:5]\n",
    "top5.plot(kind = \"bar\")"
   ]
  },
  {
   "cell_type": "markdown",
   "metadata": {},
   "source": [
    "From the graph above, the most common facilities in Mathare slum are handwashing facilities, water points, communal facilities, education and religious facilities in that order. It is important to note that this is the only slum where there are more education facilities than religious facilities."
   ]
  },
  {
   "cell_type": "code",
   "execution_count": 117,
   "metadata": {
    "scrolled": true
   },
   "outputs": [
    {
     "data": {
      "text/plain": [
       "Individual (eg business owner)                      617\n",
       "Community group                                     166\n",
       "Missing Values                                      135\n",
       "NGO                                                  68\n",
       "County government                                    47\n",
       "No one                                               20\n",
       "Private company                                      19\n",
       "National government                                  13\n",
       "UN Agency                                            11\n",
       "Other                                                10\n",
       "Individual (eg business owner) Community group        5\n",
       "Community group UN Agency                             4\n",
       "Individual (eg business owner) NGO                    2\n",
       "NGO Individual (eg business owner)                    1\n",
       "No one Individual (eg business owner)                 1\n",
       "Community group Individual (eg business owner)        1\n",
       "County government  Community group                    1\n",
       "Individual (eg business owner) County government      1\n",
       "Name: ManagingOr, dtype: int64"
      ]
     },
     "execution_count": 117,
     "metadata": {},
     "output_type": "execute_result"
    }
   ],
   "source": [
    "#Checking who manages the facilities\n",
    "mat_df['ManagingOr'].value_counts()"
   ]
  },
  {
   "cell_type": "code",
   "execution_count": 96,
   "metadata": {},
   "outputs": [
    {
     "data": {
      "text/plain": [
       "<matplotlib.axes._subplots.AxesSubplot at 0x1ecaf785208>"
      ]
     },
     "execution_count": 96,
     "metadata": {},
     "output_type": "execute_result"
    },
    {
     "data": {
      "image/png": "[encoded data removed]",
      "text/plain": [
       "<Figure size 432x288 with 1 Axes>"
      ]
     },
     "metadata": {
      "needs_background": "light"
     },
     "output_type": "display_data"
    }
   ],
   "source": [
    "#Plotting the first 5 managing organization\n",
    "top5 = mat_df['ManagingOr'].value_counts()\n",
    "top5.sort_values(ascending=False)\n",
    "top5 = top5[:5]\n",
    "top5.plot(kind = \"bar\")"
   ]
  },
  {
   "cell_type": "code",
   "execution_count": 118,
   "metadata": {},
   "outputs": [
    {
     "data": {
      "text/plain": [
       "array(['Mathare 4a', 'Mathare 4a', 'Mathare 4a', ..., 'Mathare 4a',\n",
       "       'Mathare 4a', 'Mathare 4a'], dtype=object)"
      ]
     },
     "execution_count": 118,
     "metadata": {},
     "output_type": "execute_result"
    }
   ],
   "source": [
    "#Extract the village and facility type columns from the Mathare dataset\n",
    "node_df = mat_df[['Village', 'FacilityTy']]\n",
    "n_df = mat_df['Village']\n",
    "\n",
    "#preprocess village column so that null values are all droped\n",
    "\n",
    "v=(n_df.dropna()).values\n",
    "v"
   ]
  },
  {
   "cell_type": "code",
   "execution_count": 119,
   "metadata": {},
   "outputs": [
    {
     "data": {
      "text/plain": [
       "['Ghetto',\n",
       " 'Gitathuru',\n",
       " 'Kiamaiko',\n",
       " 'Kiamutisya',\n",
       " 'Kosovo',\n",
       " 'Kwa Kariuki',\n",
       " 'Mabatini',\n",
       " 'Mashimoni',\n",
       " 'Mashimoni No.10',\n",
       " 'Mathare 3a',\n",
       " 'Mathare 3b',\n",
       " 'Mathare 3c',\n",
       " 'Mathare 4a',\n",
       " 'Mathare 4b',\n",
       " 'Redeemed',\n",
       " 'Village 1',\n",
       " 'Village 2']"
      ]
     },
     "execution_count": 119,
     "metadata": {},
     "output_type": "execute_result"
    }
   ],
   "source": [
    "##create a list of unique village values without repetition and convert numpy array back to list\n",
    "##this list will be used to check on each row while looping\n",
    "village_id= (np.unique(v)).tolist()\n",
    "village_id"
   ]
  },
  {
   "cell_type": "code",
   "execution_count": 122,
   "metadata": {},
   "outputs": [
    {
     "data": {
      "text/html": [
       "<div>\n",
       "<style scoped>\n",
       "    .dataframe tbody tr th:only-of-type {\n",
       "        vertical-align: middle;\n",
       "    }\n",
       "\n",
       "    .dataframe tbody tr th {\n",
       "        vertical-align: top;\n",
       "    }\n",
       "\n",
       "    .dataframe thead th {\n",
       "        text-align: right;\n",
       "    }\n",
       "</style>\n",
       "<table border=\"1\" class=\"dataframe\">\n",
       "  <thead>\n",
       "    <tr style=\"text-align: right;\">\n",
       "      <th></th>\n",
       "      <th>Village</th>\n",
       "      <th>Juakali/ artisan shade / garage</th>\n",
       "      <th>Hand washing facility</th>\n",
       "      <th>Religious facility</th>\n",
       "      <th>Water point</th>\n",
       "      <th>Waste collection bin / open dumping area</th>\n",
       "    </tr>\n",
       "  </thead>\n",
       "  <tbody>\n",
       "    <tr>\n",
       "      <th>1</th>\n",
       "      <td>Gitathuru</td>\n",
       "      <td>0</td>\n",
       "      <td>7</td>\n",
       "      <td>1</td>\n",
       "      <td>25</td>\n",
       "      <td>0</td>\n",
       "    </tr>\n",
       "    <tr>\n",
       "      <th>2</th>\n",
       "      <td>Kiamaiko</td>\n",
       "      <td>0</td>\n",
       "      <td>0</td>\n",
       "      <td>0</td>\n",
       "      <td>1</td>\n",
       "      <td>0</td>\n",
       "    </tr>\n",
       "    <tr>\n",
       "      <th>3</th>\n",
       "      <td>Kiamutisya</td>\n",
       "      <td>1</td>\n",
       "      <td>38</td>\n",
       "      <td>16</td>\n",
       "      <td>24</td>\n",
       "      <td>21</td>\n",
       "    </tr>\n",
       "    <tr>\n",
       "      <th>4</th>\n",
       "      <td>Kosovo</td>\n",
       "      <td>2</td>\n",
       "      <td>29</td>\n",
       "      <td>8</td>\n",
       "      <td>91</td>\n",
       "      <td>0</td>\n",
       "    </tr>\n",
       "    <tr>\n",
       "      <th>5</th>\n",
       "      <td>Kwa Kariuki</td>\n",
       "      <td>1</td>\n",
       "      <td>14</td>\n",
       "      <td>0</td>\n",
       "      <td>3</td>\n",
       "      <td>0</td>\n",
       "    </tr>\n",
       "    <tr>\n",
       "      <th>6</th>\n",
       "      <td>Mabatini</td>\n",
       "      <td>0</td>\n",
       "      <td>16</td>\n",
       "      <td>0</td>\n",
       "      <td>12</td>\n",
       "      <td>0</td>\n",
       "    </tr>\n",
       "    <tr>\n",
       "      <th>7</th>\n",
       "      <td>Mashimoni</td>\n",
       "      <td>0</td>\n",
       "      <td>8</td>\n",
       "      <td>2</td>\n",
       "      <td>8</td>\n",
       "      <td>1</td>\n",
       "    </tr>\n",
       "    <tr>\n",
       "      <th>8</th>\n",
       "      <td>Mashimoni No.10</td>\n",
       "      <td>0</td>\n",
       "      <td>3</td>\n",
       "      <td>4</td>\n",
       "      <td>15</td>\n",
       "      <td>0</td>\n",
       "    </tr>\n",
       "    <tr>\n",
       "      <th>10</th>\n",
       "      <td>Mathare 3b</td>\n",
       "      <td>0</td>\n",
       "      <td>9</td>\n",
       "      <td>0</td>\n",
       "      <td>2</td>\n",
       "      <td>0</td>\n",
       "    </tr>\n",
       "    <tr>\n",
       "      <th>11</th>\n",
       "      <td>Mathare 3c</td>\n",
       "      <td>1</td>\n",
       "      <td>8</td>\n",
       "      <td>0</td>\n",
       "      <td>1</td>\n",
       "      <td>0</td>\n",
       "    </tr>\n",
       "    <tr>\n",
       "      <th>13</th>\n",
       "      <td>Mathare 4b</td>\n",
       "      <td>0</td>\n",
       "      <td>26</td>\n",
       "      <td>4</td>\n",
       "      <td>19</td>\n",
       "      <td>1</td>\n",
       "    </tr>\n",
       "    <tr>\n",
       "      <th>15</th>\n",
       "      <td>Village 1</td>\n",
       "      <td>3</td>\n",
       "      <td>4</td>\n",
       "      <td>1</td>\n",
       "      <td>3</td>\n",
       "      <td>2</td>\n",
       "    </tr>\n",
       "    <tr>\n",
       "      <th>16</th>\n",
       "      <td>Village 2</td>\n",
       "      <td>0</td>\n",
       "      <td>11</td>\n",
       "      <td>6</td>\n",
       "      <td>9</td>\n",
       "      <td>0</td>\n",
       "    </tr>\n",
       "  </tbody>\n",
       "</table>\n",
       "</div>"
      ],
      "text/plain": [
       "            Village  Juakali/ artisan shade / garage  Hand washing facility  \\\n",
       "1         Gitathuru                                0                      7   \n",
       "2          Kiamaiko                                0                      0   \n",
       "3        Kiamutisya                                1                     38   \n",
       "4            Kosovo                                2                     29   \n",
       "5       Kwa Kariuki                                1                     14   \n",
       "6          Mabatini                                0                     16   \n",
       "7         Mashimoni                                0                      8   \n",
       "8   Mashimoni No.10                                0                      3   \n",
       "10       Mathare 3b                                0                      9   \n",
       "11       Mathare 3c                                1                      8   \n",
       "13       Mathare 4b                                0                     26   \n",
       "15        Village 1                                3                      4   \n",
       "16        Village 2                                0                     11   \n",
       "\n",
       "    Religious facility  Water point  Waste collection bin / open dumping area  \n",
       "1                    1           25                                         0  \n",
       "2                    0            1                                         0  \n",
       "3                   16           24                                        21  \n",
       "4                    8           91                                         0  \n",
       "5                    0            3                                         0  \n",
       "6                    0           12                                         0  \n",
       "7                    2            8                                         1  \n",
       "8                    4           15                                         0  \n",
       "10                   0            2                                         0  \n",
       "11                   0            1                                         0  \n",
       "13                   4           19                                         1  \n",
       "15                   1            3                                         2  \n",
       "16                   6            9                                         0  "
      ]
     },
     "execution_count": 122,
     "metadata": {},
     "output_type": "execute_result"
    }
   ],
   "source": [
    "village_facility=vge_facility_count.drop([0,9,12,14])\n",
    "village_facility"
   ]
  },
  {
   "cell_type": "code",
   "execution_count": 134,
   "metadata": {
    "scrolled": false
   },
   "outputs": [
    {
     "name": "stdout",
     "output_type": "stream",
     "text": [
      "            Village  Hand washing facility  Water point  \\\n",
      "0            Ghetto                     37            4   \n",
      "1         Gitathuru                      7           25   \n",
      "2          Kiamaiko                      0            1   \n",
      "3        Kiamutisya                     38           24   \n",
      "4            Kosovo                     29           91   \n",
      "5       Kwa Kariuki                     14            3   \n",
      "6          Mabatini                     16           12   \n",
      "7         Mashimoni                      8            8   \n",
      "8   Mashimoni No.10                      3           15   \n",
      "9        Mathare 3a                     52           21   \n",
      "10       Mathare 3b                      9            2   \n",
      "11       Mathare 3c                      8            1   \n",
      "12       Mathare 4a                     19           21   \n",
      "13       Mathare 4b                     26           19   \n",
      "14         Redeemed                      0            0   \n",
      "15        Village 1                      4            3   \n",
      "16        Village 2                     11            9   \n",
      "\n",
      "    Communal sanitation facility (eg toilet)  Education Facility  \\\n",
      "0                                          1                   2   \n",
      "1                                          7                   3   \n",
      "2                                          0                   0   \n",
      "3                                         15                  18   \n",
      "4                                         68                   8   \n",
      "5                                          1                   0   \n",
      "6                                          1                   1   \n",
      "7                                          5                   3   \n",
      "8                                         10                   1   \n",
      "9                                         11                   3   \n",
      "10                                         0                   0   \n",
      "11                                         2                   0   \n",
      "12                                        27                  14   \n",
      "13                                        18                   9   \n",
      "14                                         1                   0   \n",
      "15                                         0                   9   \n",
      "16                                         2                   6   \n",
      "\n",
      "    Religious facility  \n",
      "0                    0  \n",
      "1                    1  \n",
      "2                    0  \n",
      "3                   16  \n",
      "4                    8  \n",
      "5                    0  \n",
      "6                    0  \n",
      "7                    2  \n",
      "8                    4  \n",
      "9                    2  \n",
      "10                   0  \n",
      "11                   0  \n",
      "12                  15  \n",
      "13                   4  \n",
      "14                   0  \n",
      "15                   1  \n",
      "16                   6  \n"
     ]
    }
   ],
   "source": [
    "##create empty dictionary to store required data values after looping operation\n",
    "results = {\"Village\":[],\"Hand washing facility\":[],\"Water point\":[], \"Communal sanitation facility (eg toilet)\":[],\"Education Facility\":[],\"Religious facility\":[]}\n",
    "\n",
    "village_indexed=node_df.set_index(\"Village\")\n",
    "\n",
    "for i in village_id:\n",
    "    hw=0\n",
    "    wp=0\n",
    "    cs=0\n",
    "    ef=0\n",
    "    rf=0\n",
    "    for Village,FacilityTy in village_indexed.iterrows():\n",
    "        if Village==i:\n",
    "            if FacilityTy.values==\"Hand washing facility\":\n",
    "                hw+=1\n",
    "            if FacilityTy.values==\"Water point\":\n",
    "                wp+=1\n",
    "            if FacilityTy.values==\"Communal sanitation facility (eg toilet)\":\n",
    "                cs+=1\n",
    "            if FacilityTy.values==\"Education Facility\":\n",
    "                ef+=1\n",
    "            if FacilityTy.values==\"Religious facility\":\n",
    "                rf+=1\n",
    "\n",
    "       \n",
    "    results[\"Village\"].append(i)\n",
    "    results[\"Hand washing facility\"].append(hw)\n",
    "    results[\"Water point\"].append(wp)\n",
    "    results[\"Communal sanitation facility (eg toilet)\"].append(cs)\n",
    "    results[\"Education Facility\"].append(ef)\n",
    "    results[\"Religious facility\"].append(rf)\n",
    "    \n",
    "vge_facility_count = pd.DataFrame.from_dict(results)\n",
    "print(vge_facility_count)\n",
    "#vge_facility_count.to_csv(\"C:/Users/Lenovo X1/Desktop/vge3.csv\")       "
   ]
  },
  {
   "cell_type": "code",
   "execution_count": 135,
   "metadata": {},
   "outputs": [
    {
     "data": {
      "text/html": [
       "<div>\n",
       "<style scoped>\n",
       "    .dataframe tbody tr th:only-of-type {\n",
       "        vertical-align: middle;\n",
       "    }\n",
       "\n",
       "    .dataframe tbody tr th {\n",
       "        vertical-align: top;\n",
       "    }\n",
       "\n",
       "    .dataframe thead th {\n",
       "        text-align: right;\n",
       "    }\n",
       "</style>\n",
       "<table border=\"1\" class=\"dataframe\">\n",
       "  <thead>\n",
       "    <tr style=\"text-align: right;\">\n",
       "      <th></th>\n",
       "      <th>Village</th>\n",
       "      <th>Hand washing facility</th>\n",
       "      <th>Water point</th>\n",
       "      <th>Communal sanitation facility (eg toilet)</th>\n",
       "      <th>Education Facility</th>\n",
       "      <th>Religious facility</th>\n",
       "    </tr>\n",
       "  </thead>\n",
       "  <tbody>\n",
       "    <tr>\n",
       "      <th>0</th>\n",
       "      <td>Ghetto</td>\n",
       "      <td>37</td>\n",
       "      <td>4</td>\n",
       "      <td>1</td>\n",
       "      <td>2</td>\n",
       "      <td>0</td>\n",
       "    </tr>\n",
       "    <tr>\n",
       "      <th>1</th>\n",
       "      <td>Gitathuru</td>\n",
       "      <td>7</td>\n",
       "      <td>25</td>\n",
       "      <td>7</td>\n",
       "      <td>3</td>\n",
       "      <td>1</td>\n",
       "    </tr>\n",
       "    <tr>\n",
       "      <th>3</th>\n",
       "      <td>Kiamutisya</td>\n",
       "      <td>38</td>\n",
       "      <td>24</td>\n",
       "      <td>15</td>\n",
       "      <td>18</td>\n",
       "      <td>16</td>\n",
       "    </tr>\n",
       "    <tr>\n",
       "      <th>4</th>\n",
       "      <td>Kosovo</td>\n",
       "      <td>29</td>\n",
       "      <td>91</td>\n",
       "      <td>68</td>\n",
       "      <td>8</td>\n",
       "      <td>8</td>\n",
       "    </tr>\n",
       "    <tr>\n",
       "      <th>5</th>\n",
       "      <td>Kwa Kariuki</td>\n",
       "      <td>14</td>\n",
       "      <td>3</td>\n",
       "      <td>1</td>\n",
       "      <td>0</td>\n",
       "      <td>0</td>\n",
       "    </tr>\n",
       "    <tr>\n",
       "      <th>6</th>\n",
       "      <td>Mabatini</td>\n",
       "      <td>16</td>\n",
       "      <td>12</td>\n",
       "      <td>1</td>\n",
       "      <td>1</td>\n",
       "      <td>0</td>\n",
       "    </tr>\n",
       "    <tr>\n",
       "      <th>7</th>\n",
       "      <td>Mashimoni</td>\n",
       "      <td>8</td>\n",
       "      <td>8</td>\n",
       "      <td>5</td>\n",
       "      <td>3</td>\n",
       "      <td>2</td>\n",
       "    </tr>\n",
       "    <tr>\n",
       "      <th>9</th>\n",
       "      <td>Mathare 3a</td>\n",
       "      <td>52</td>\n",
       "      <td>21</td>\n",
       "      <td>11</td>\n",
       "      <td>3</td>\n",
       "      <td>2</td>\n",
       "    </tr>\n",
       "    <tr>\n",
       "      <th>11</th>\n",
       "      <td>Mathare 3c</td>\n",
       "      <td>8</td>\n",
       "      <td>1</td>\n",
       "      <td>2</td>\n",
       "      <td>0</td>\n",
       "      <td>0</td>\n",
       "    </tr>\n",
       "    <tr>\n",
       "      <th>12</th>\n",
       "      <td>Mathare 4a</td>\n",
       "      <td>19</td>\n",
       "      <td>21</td>\n",
       "      <td>27</td>\n",
       "      <td>14</td>\n",
       "      <td>15</td>\n",
       "    </tr>\n",
       "    <tr>\n",
       "      <th>13</th>\n",
       "      <td>Mathare 4b</td>\n",
       "      <td>26</td>\n",
       "      <td>19</td>\n",
       "      <td>18</td>\n",
       "      <td>9</td>\n",
       "      <td>4</td>\n",
       "    </tr>\n",
       "    <tr>\n",
       "      <th>16</th>\n",
       "      <td>Village 2</td>\n",
       "      <td>11</td>\n",
       "      <td>9</td>\n",
       "      <td>2</td>\n",
       "      <td>6</td>\n",
       "      <td>6</td>\n",
       "    </tr>\n",
       "  </tbody>\n",
       "</table>\n",
       "</div>"
      ],
      "text/plain": [
       "        Village  Hand washing facility  Water point  \\\n",
       "0        Ghetto                     37            4   \n",
       "1     Gitathuru                      7           25   \n",
       "3    Kiamutisya                     38           24   \n",
       "4        Kosovo                     29           91   \n",
       "5   Kwa Kariuki                     14            3   \n",
       "6      Mabatini                     16           12   \n",
       "7     Mashimoni                      8            8   \n",
       "9    Mathare 3a                     52           21   \n",
       "11   Mathare 3c                      8            1   \n",
       "12   Mathare 4a                     19           21   \n",
       "13   Mathare 4b                     26           19   \n",
       "16    Village 2                     11            9   \n",
       "\n",
       "    Communal sanitation facility (eg toilet)  Education Facility  \\\n",
       "0                                          1                   2   \n",
       "1                                          7                   3   \n",
       "3                                         15                  18   \n",
       "4                                         68                   8   \n",
       "5                                          1                   0   \n",
       "6                                          1                   1   \n",
       "7                                          5                   3   \n",
       "9                                         11                   3   \n",
       "11                                         2                   0   \n",
       "12                                        27                  14   \n",
       "13                                        18                   9   \n",
       "16                                         2                   6   \n",
       "\n",
       "    Religious facility  \n",
       "0                    0  \n",
       "1                    1  \n",
       "3                   16  \n",
       "4                    8  \n",
       "5                    0  \n",
       "6                    0  \n",
       "7                    2  \n",
       "9                    2  \n",
       "11                   0  \n",
       "12                  15  \n",
       "13                   4  \n",
       "16                   6  "
      ]
     },
     "execution_count": 135,
     "metadata": {},
     "output_type": "execute_result"
    }
   ],
   "source": [
    "#Dropping the columns that are not captured in the population dataset\n",
    "village_facility=vge_facility_count.drop([2, 8, 10, 14, 15])\n",
    "village_facility"
   ]
  },
  {
   "cell_type": "code",
   "execution_count": 136,
   "metadata": {},
   "outputs": [
    {
     "data": {
      "text/plain": [
       "<matplotlib.axes._subplots.AxesSubplot at 0x1ecaf54b3c8>"
      ]
     },
     "execution_count": 136,
     "metadata": {},
     "output_type": "execute_result"
    },
    {
     "data": {
      "image/png": "[encoded data removed]",
      "text/plain": [
       "<Figure size 1440x504 with 1 Axes>"
      ]
     },
     "metadata": {
      "needs_background": "light"
     },
     "output_type": "display_data"
    }
   ],
   "source": [
    "#Plotting the facilities in each village\n",
    "village_facility.plot(x='Village',kind='bar',stacked=False, figsize=(20,7), title='Number of Facilities per Village', grid=True)"
   ]
  },
  {
   "cell_type": "code",
   "execution_count": 137,
   "metadata": {},
   "outputs": [],
   "source": [
    "#Loading the Mathare Population Dataset\n",
    "mat2_df = pd.read_csv('Mathare_Pop_By_Village.csv')"
   ]
  },
  {
   "cell_type": "code",
   "execution_count": 138,
   "metadata": {},
   "outputs": [
    {
     "data": {
      "text/plain": [
       "<matplotlib.axes._subplots.AxesSubplot at 0x1ecb083d240>"
      ]
     },
     "execution_count": 138,
     "metadata": {},
     "output_type": "execute_result"
    },
    {
     "data": {
      "image/png": "[encoded data removed]",
      "text/plain": [
       "<Figure size 1440x504 with 2 Axes>"
      ]
     },
     "metadata": {
      "needs_background": "light"
     },
     "output_type": "display_data"
    }
   ],
   "source": [
    "#A graph to visualize the population vs. facilities\n",
    "village_facility.plot(x='Village',kind='bar',stacked=False, figsize=(20,7), title='Number of Facilities Serving Village Population', grid=True)\n",
    "mat2_df['SUM'].plot(secondary_y=True)"
   ]
  },
  {
   "cell_type": "markdown",
   "metadata": {},
   "source": [
    "From the graph above, Mathare 4a has the highest population, yet its facilities do not seem adequate enought to cater for the people.There is a need to invest in more facilities in the slum to cater for the high population."
   ]
  }
 ],
 "metadata": {
  "kernelspec": {
   "display_name": "Python 3",
   "language": "python",
   "name": "python3"
  },
  "language_info": {
   "codemirror_mode": {
    "name": "ipython",
    "version": 3
   },
   "file_extension": ".py",
   "mimetype": "text/x-python",
   "name": "python",
   "nbconvert_exporter": "python",
   "pygments_lexer": "ipython3",
   "version": "3.7.3"
  }
 },
 "nbformat": 4,
 "nbformat_minor": 5
}
